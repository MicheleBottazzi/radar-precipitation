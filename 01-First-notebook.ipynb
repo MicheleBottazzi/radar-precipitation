{
 "cells": [
  {
   "cell_type": "markdown",
   "id": "5c34b2e9-5497-4561-9a2c-c1b4dfa59d46",
   "metadata": {},
   "source": [
    "# 01 - First notebook"
   ]
  },
  {
   "cell_type": "code",
   "execution_count": 1,
   "id": "ee523f10-4c40-4b96-b86c-f8360b43bfdd",
   "metadata": {},
   "outputs": [],
   "source": [
    "import numpy as np\n",
    "import fiona\n",
    "import rasterio\n",
    "import rasterio.features\n",
    "from shapely.geometry import shape, mapping, Polygon\n",
    "from shapely.geometry.multipolygon import MultiPolygon"
   ]
  },
  {
   "cell_type": "code",
   "execution_count": 2,
   "id": "1964fc32-e70b-40c3-bacd-55f43b97623c",
   "metadata": {},
   "outputs": [],
   "source": [
    "import geopandas as gpd"
   ]
  },
  {
   "cell_type": "code",
   "execution_count": 3,
   "id": "3e6a5c08-2021-4890-8d3d-8cdbd8a5bccf",
   "metadata": {},
   "outputs": [],
   "source": [
    "import xarray as xr"
   ]
  },
  {
   "cell_type": "code",
   "execution_count": 4,
   "id": "e1004723-67e8-4299-a300-5c7b916d0e96",
   "metadata": {},
   "outputs": [],
   "source": [
    "from rasterio import features\n",
    "from affine import Affine"
   ]
  },
  {
   "cell_type": "code",
   "execution_count": 5,
   "id": "0030e2c9-c1bc-478c-a3a3-aab775e674f5",
   "metadata": {},
   "outputs": [],
   "source": [
    "import os"
   ]
  },
  {
   "cell_type": "code",
   "execution_count": 6,
   "id": "caabcf84-f484-4fc8-8a61-30e96006856c",
   "metadata": {},
   "outputs": [
    {
     "name": "stdout",
     "output_type": "stream",
     "text": [
      "/home/michele/radar-precipitation\r\n"
     ]
    }
   ],
   "source": [
    "!pwd"
   ]
  },
  {
   "cell_type": "code",
   "execution_count": 7,
   "id": "dbf62a17-a083-4db8-b3b1-df88841426f9",
   "metadata": {},
   "outputs": [],
   "source": [
    "path = '/home/michele/radar-precipitation/'"
   ]
  },
  {
   "cell_type": "code",
   "execution_count": 8,
   "id": "cac3e040-b9cd-4437-9675-5a0b08ad44dd",
   "metadata": {},
   "outputs": [],
   "source": [
    "os.chdir(path)"
   ]
  },
  {
   "cell_type": "code",
   "execution_count": 12,
   "id": "12784255-f5a2-415d-a418-0cdb66287cc5",
   "metadata": {},
   "outputs": [],
   "source": [
    "def read_tiff_file(file_path):\n",
    "    with open(file_path, 'r') as f:\n",
    "        print(f.read())"
   ]
  },
  {
   "cell_type": "code",
   "execution_count": 14,
   "id": "f0de01a1-5d6a-400e-9213-83baebca2c6d",
   "metadata": {},
   "outputs": [],
   "source": [
    "def read_tiff_file(file_path):\n",
    "    centroids = []\n",
    "    with rasterio.open(file_path) as src:\n",
    "        crs = src.crs\n",
    "        src_band = src.read(1)\n",
    "        src_band[src_band<=1]=255\n",
    "        src_band[src_band<255]=1\n",
    "        unique_values = np.unique(src_band)\n",
    "        unique_values = unique_values[[0]]\n",
    "        shapes = list(rasterio.features.shapes(src_band, transform=src.transform))\n",
    "        \n",
    "        shp_polygon_schema = {\n",
    "            'geometry': 'MultiPolygon',\n",
    "            'properties': {'id':'int'}\n",
    "        }\n",
    "        \n",
    "        with fiona.open('../polygons/'+file_path.replace('.tiff','.shp'),'w','ESRI Shapefile',shp_polygon_schema) as shp:\n",
    "            for pixel_value in unique_values:\n",
    "                polygons = [shape(geom) for geom, value in shapes\n",
    "                            if value == pixel_value]\n",
    "                for i in range(len(polygons)):\n",
    "                    multipolygon = MultiPolygon(polygons)    \n",
    "                                \n",
    "            shp.write({\n",
    "                'geometry': mapping(multipolygon),\n",
    "                'properties': {'id': int(file_path[:-5])}\n",
    "            })\n",
    "            \n",
    "        shp_centroid_schema = {\n",
    "            'geometry': 'Point',\n",
    "            'properties': {'id':'int'}\n",
    "        }\n",
    "        centroids.append(multipolygon.centroid)\n",
    "        \n",
    "        with fiona.open('../centroids/'+file_path.replace('.tiff','_centroid.shp'),'w','ESRI Shapefile',shp_centroid_schema) as shp:\n",
    "            shp.write({\n",
    "                'geometry': mapping(multipolygon.centroid),\n",
    "                'properties': {'id': int(file_path[:-5])}\n",
    "            })"
   ]
  },
  {
   "cell_type": "code",
   "execution_count": 15,
   "id": "2d21dad5-f116-464a-aac1-ce03c526bb77",
   "metadata": {},
   "outputs": [],
   "source": [
    "for file in os.listdir():\n",
    "    if file.endswith(\".tiff\"):\n",
    "        print(file)\n",
    "        read_tiff_file(file)"
   ]
  },
  {
   "cell_type": "markdown",
   "id": "62abfc63-8036-4ebd-b2be-dccfee7dedcf",
   "metadata": {},
   "source": [
    "############################################################\n",
    "\n",
    "############################################################\n",
    "\n",
    "############################################################"
   ]
  }
 ],
 "metadata": {
  "kernelspec": {
   "display_name": "Python 3",
   "language": "python",
   "name": "python3"
  },
  "language_info": {
   "codemirror_mode": {
    "name": "ipython",
    "version": 3
   },
   "file_extension": ".py",
   "mimetype": "text/x-python",
   "name": "python",
   "nbconvert_exporter": "python",
   "pygments_lexer": "ipython3",
   "version": "3.7.11"
  }
 },
 "nbformat": 4,
 "nbformat_minor": 5
}
