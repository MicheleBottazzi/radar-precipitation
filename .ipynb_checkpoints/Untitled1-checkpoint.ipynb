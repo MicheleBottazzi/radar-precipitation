{
 "cells": [
  {
   "cell_type": "code",
   "execution_count": 1,
   "id": "6d608453-b45a-40fd-8fa1-ef61b7bd0443",
   "metadata": {},
   "outputs": [],
   "source": [
    "import numpy as np\n",
    "import fiona\n",
    "import rasterio\n",
    "import rasterio.features\n",
    "from shapely.geometry import shape, mapping, Polygon\n",
    "from shapely.geometry.multipolygon import MultiPolygon"
   ]
  },
  {
   "cell_type": "code",
   "execution_count": 2,
   "id": "85490fc2-b664-413d-9bbd-fbff9d575fe0",
   "metadata": {},
   "outputs": [],
   "source": [
    "import os"
   ]
  },
  {
   "cell_type": "code",
   "execution_count": 3,
   "id": "b0e74c4a-1eff-49b3-a891-e4be805704d1",
   "metadata": {},
   "outputs": [],
   "source": [
    "path = \"/home/drugo/tiff\""
   ]
  },
  {
   "cell_type": "code",
   "execution_count": 4,
   "id": "b9c74d36-d0b6-44f1-9d1f-1b5e584e73e3",
   "metadata": {},
   "outputs": [
    {
     "name": "stdout",
     "output_type": "stream",
     "text": [
      "     FID                       geometry\n",
      "0      0  POINT (551557.377 407905.738)\n",
      "1      1  POINT (551557.377 407905.738)\n",
      "2      1  POINT (571326.816 380639.665)\n",
      "3      2  POINT (551557.377 407905.738)\n",
      "4      2  POINT (571326.816 380639.665)\n",
      "..   ...                            ...\n",
      "556   32   POINT (550988.889 25011.111)\n",
      "557   32    POINT (494340.594 3603.960)\n",
      "558   32    POINT (387879.621 1152.840)\n",
      "559   32  POINT (494351.852 -26240.741)\n",
      "560   32  POINT (395690.000 -70805.000)\n",
      "\n",
      "[561 rows x 2 columns]\n"
     ]
    }
   ],
   "source": [
    "import geopandas as gpd\n",
    "shapefile = gpd.read_file(\"/home/drugo/tiff/centroidi_test.shp\")\n",
    "print(shapefile)"
   ]
  },
  {
   "cell_type": "code",
   "execution_count": 15,
   "id": "a18d7aa3-c26f-4c49-985b-070d2d1a54df",
   "metadata": {},
   "outputs": [
    {
     "name": "stderr",
     "output_type": "stream",
     "text": [
      "/home/drugo/anaconda3/envs/gis/lib/python3.7/site-packages/ipykernel_launcher.py:1: FutureWarning: Dropping of nuisance columns in DataFrame reductions (with 'numeric_only=None') is deprecated; in a future version this will raise TypeError.  Select only valid columns before calling the reduction.\n",
      "  \"\"\"Entry point for launching an IPython kernel.\n"
     ]
    },
    {
     "data": {
      "text/plain": [
       "0       0.0\n",
       "1       1.0\n",
       "2       1.0\n",
       "3       2.0\n",
       "4       2.0\n",
       "       ... \n",
       "556    32.0\n",
       "557    32.0\n",
       "558    32.0\n",
       "559    32.0\n",
       "560    32.0\n",
       "Length: 561, dtype: float64"
      ]
     },
     "execution_count": 15,
     "metadata": {},
     "output_type": "execute_result"
    }
   ],
   "source": [
    "shapefile.mean(1)"
   ]
  },
  {
   "cell_type": "code",
   "execution_count": 87,
   "id": "bb161877-56e2-4d6e-b968-84e66997b4c4",
   "metadata": {},
   "outputs": [],
   "source": [
    "a = shapefile.iloc[2,1]"
   ]
  },
  {
   "cell_type": "code",
   "execution_count": 105,
   "id": "ac979527-6311-41f4-b449-5d1d37f649c8",
   "metadata": {},
   "outputs": [
    {
     "name": "stdout",
     "output_type": "stream",
     "text": [
      "POINT (571326.8156424582 380639.6648044693)\n"
     ]
    }
   ],
   "source": [
    "print(a)"
   ]
  },
  {
   "cell_type": "code",
   "execution_count": 106,
   "id": "48e38672-dd04-40bb-92a7-d7eafb83ef5c",
   "metadata": {},
   "outputs": [
    {
     "data": {
      "text/plain": [
       "shapely.geometry.point.Point"
      ]
     },
     "execution_count": 106,
     "metadata": {},
     "output_type": "execute_result"
    }
   ],
   "source": [
    "type(a)"
   ]
  },
  {
   "cell_type": "code",
   "execution_count": 89,
   "id": "48e372f8-641d-45e0-9442-cd8c6b35f564",
   "metadata": {},
   "outputs": [
    {
     "data": {
      "text/plain": [
       "571326.8156424582"
      ]
     },
     "execution_count": 89,
     "metadata": {},
     "output_type": "execute_result"
    }
   ],
   "source": [
    "a.x"
   ]
  },
  {
   "cell_type": "code",
   "execution_count": 52,
   "id": "98a5db55-0ca1-475e-ba05-2a5971307b22",
   "metadata": {},
   "outputs": [],
   "source": [
    "aa = shapefile.iloc[0:,1:]"
   ]
  },
  {
   "cell_type": "code",
   "execution_count": 54,
   "id": "9daf0724-1d17-4ecb-aeed-9d8fc930187a",
   "metadata": {},
   "outputs": [
    {
     "ename": "AttributeError",
     "evalue": "'GeoDataFrame' object has no attribute 'x'",
     "output_type": "error",
     "traceback": [
      "\u001b[0;31m---------------------------------------------------------------------------\u001b[0m",
      "\u001b[0;31mAttributeError\u001b[0m                            Traceback (most recent call last)",
      "\u001b[0;32m/tmp/ipykernel_115079/3095785813.py\u001b[0m in \u001b[0;36m<module>\u001b[0;34m\u001b[0m\n\u001b[0;32m----> 1\u001b[0;31m \u001b[0maa\u001b[0m\u001b[0;34m.\u001b[0m\u001b[0mx\u001b[0m\u001b[0;34m\u001b[0m\u001b[0;34m\u001b[0m\u001b[0m\n\u001b[0m",
      "\u001b[0;32m~/anaconda3/envs/gis/lib/python3.7/site-packages/pandas/core/generic.py\u001b[0m in \u001b[0;36m__getattr__\u001b[0;34m(self, name)\u001b[0m\n\u001b[1;32m   5476\u001b[0m         ):\n\u001b[1;32m   5477\u001b[0m             \u001b[0;32mreturn\u001b[0m \u001b[0mself\u001b[0m\u001b[0;34m[\u001b[0m\u001b[0mname\u001b[0m\u001b[0;34m]\u001b[0m\u001b[0;34m\u001b[0m\u001b[0;34m\u001b[0m\u001b[0m\n\u001b[0;32m-> 5478\u001b[0;31m         \u001b[0;32mreturn\u001b[0m \u001b[0mobject\u001b[0m\u001b[0;34m.\u001b[0m\u001b[0m__getattribute__\u001b[0m\u001b[0;34m(\u001b[0m\u001b[0mself\u001b[0m\u001b[0;34m,\u001b[0m \u001b[0mname\u001b[0m\u001b[0;34m)\u001b[0m\u001b[0;34m\u001b[0m\u001b[0;34m\u001b[0m\u001b[0m\n\u001b[0m\u001b[1;32m   5479\u001b[0m \u001b[0;34m\u001b[0m\u001b[0m\n\u001b[1;32m   5480\u001b[0m     \u001b[0;32mdef\u001b[0m \u001b[0m__setattr__\u001b[0m\u001b[0;34m(\u001b[0m\u001b[0mself\u001b[0m\u001b[0;34m,\u001b[0m \u001b[0mname\u001b[0m\u001b[0;34m:\u001b[0m \u001b[0mstr\u001b[0m\u001b[0;34m,\u001b[0m \u001b[0mvalue\u001b[0m\u001b[0;34m)\u001b[0m \u001b[0;34m->\u001b[0m \u001b[0;32mNone\u001b[0m\u001b[0;34m:\u001b[0m\u001b[0;34m\u001b[0m\u001b[0;34m\u001b[0m\u001b[0m\n",
      "\u001b[0;31mAttributeError\u001b[0m: 'GeoDataFrame' object has no attribute 'x'"
     ]
    }
   ],
   "source": [
    "aa."
   ]
  },
  {
   "cell_type": "code",
   "execution_count": 58,
   "id": "0ff320f1-0d5b-4166-bf46-40d3cf86015c",
   "metadata": {},
   "outputs": [
    {
     "data": {
      "text/plain": [
       "(561, 2)"
      ]
     },
     "execution_count": 58,
     "metadata": {},
     "output_type": "execute_result"
    }
   ],
   "source": [
    "shapefile.shape"
   ]
  },
  {
   "cell_type": "code",
   "execution_count": 91,
   "id": "5f0f9703-a382-4502-a15a-c727c98095d5",
   "metadata": {},
   "outputs": [],
   "source": [
    "sum_x=0\n",
    "sum_y = 0\n",
    "for i in range(len(shapefile)):\n",
    "# #     print(i)\n",
    "    sum_x = shapefile.iloc[i,1].x + sum_x\n",
    "    sum_y = shapefile.iloc[i,1].y + sum_y\n",
    "#     print(shapefile.iloc[i,1].x)\n",
    "    \n",
    "mean_x = sum_x/len(shapefile)\n",
    "mean_y = sum_y/len(shapefile)"
   ]
  },
  {
   "cell_type": "code",
   "execution_count": 94,
   "id": "81ec72f8-70a8-4894-8cdf-a723e0e0f943",
   "metadata": {},
   "outputs": [
    {
     "name": "stdout",
     "output_type": "stream",
     "text": [
      "498533.5747605663 246628.00357635863\n"
     ]
    }
   ],
   "source": [
    "print(mean_x, mean_y)"
   ]
  },
  {
   "cell_type": "code",
   "execution_count": 95,
   "id": "8c9a3981-3a8d-476a-b5fd-0dff8eaa1068",
   "metadata": {},
   "outputs": [
    {
     "data": {
      "text/plain": [
       "0      POINT (551557.377 407905.738)\n",
       "1      POINT (551557.377 407905.738)\n",
       "2      POINT (571326.816 380639.665)\n",
       "3      POINT (551557.377 407905.738)\n",
       "4      POINT (571326.816 380639.665)\n",
       "                   ...              \n",
       "556     POINT (550988.889 25011.111)\n",
       "557      POINT (494340.594 3603.960)\n",
       "558      POINT (387879.621 1152.840)\n",
       "559    POINT (494351.852 -26240.741)\n",
       "560    POINT (395690.000 -70805.000)\n",
       "Name: geometry, Length: 561, dtype: geometry"
      ]
     },
     "execution_count": 95,
     "metadata": {},
     "output_type": "execute_result"
    }
   ],
   "source": [
    "shapefile.iloc[:,1]"
   ]
  },
  {
   "cell_type": "code",
   "execution_count": 109,
   "id": "e675ec0e-93c2-4845-b955-15c45dd086d3",
   "metadata": {},
   "outputs": [
    {
     "name": "stdout",
     "output_type": "stream",
     "text": [
      "POINT (498533.5747605663 246628.0035763586)\n"
     ]
    }
   ],
   "source": [
    "from shapely.geometry import Point\n",
    "c=Point(mean_x, mean_y)\n",
    "\n",
    "print(c)\n"
   ]
  },
  {
   "cell_type": "code",
   "execution_count": 110,
   "id": "2b26f378-dd1c-4e5c-bef2-fd1264cacc86",
   "metadata": {},
   "outputs": [
    {
     "data": {
      "image/svg+xml": [
       "<svg xmlns=\"http://www.w3.org/2000/svg\" xmlns:xlink=\"http://www.w3.org/1999/xlink\" width=\"100.0\" height=\"100.0\" viewBox=\"498532.5747605663 246627.00357635863 2.0 2.0\" preserveAspectRatio=\"xMinYMin meet\"><g transform=\"matrix(1,0,0,-1,0,493256.00715271727)\"><circle cx=\"498533.5747605663\" cy=\"246628.00357635863\" r=\"0.06\" stroke=\"#555555\" stroke-width=\"0.02\" fill=\"#66cc99\" opacity=\"0.6\" /></g></svg>"
      ],
      "text/plain": [
       "<shapely.geometry.point.Point at 0x7f665b76efd0>"
      ]
     },
     "execution_count": 110,
     "metadata": {},
     "output_type": "execute_result"
    }
   ],
   "source": [
    "c"
   ]
  },
  {
   "cell_type": "code",
   "execution_count": null,
   "id": "ba33c50a-e345-46bf-b0e9-a57710d0dda7",
   "metadata": {},
   "outputs": [],
   "source": []
  }
 ],
 "metadata": {
  "kernelspec": {
   "display_name": "Python 3 (ipykernel)",
   "language": "python",
   "name": "python3"
  },
  "language_info": {
   "codemirror_mode": {
    "name": "ipython",
    "version": 3
   },
   "file_extension": ".py",
   "mimetype": "text/x-python",
   "name": "python",
   "nbconvert_exporter": "python",
   "pygments_lexer": "ipython3",
   "version": "3.7.11"
  }
 },
 "nbformat": 4,
 "nbformat_minor": 5
}
