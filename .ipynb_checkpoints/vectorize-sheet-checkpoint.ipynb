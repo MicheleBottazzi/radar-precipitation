{
 "cells": [
  {
   "cell_type": "code",
   "execution_count": 33,
   "id": "ee523f10-4c40-4b96-b86c-f8360b43bfdd",
   "metadata": {},
   "outputs": [],
   "source": [
    "import numpy as np\n",
    "import fiona\n",
    "import rasterio\n",
    "import rasterio.features\n",
    "from shapely.geometry import shape, mapping, Polygon\n",
    "from shapely.geometry.multipolygon import MultiPolygon"
   ]
  },
  {
   "cell_type": "code",
   "execution_count": 34,
   "id": "0030e2c9-c1bc-478c-a3a3-aab775e674f5",
   "metadata": {},
   "outputs": [],
   "source": [
    "import os"
   ]
  },
  {
   "cell_type": "code",
   "execution_count": 35,
   "id": "caabcf84-f484-4fc8-8a61-30e96006856c",
   "metadata": {},
   "outputs": [
    {
     "name": "stdout",
     "output_type": "stream",
     "text": [
      "/home/drugo/tiff\n"
     ]
    }
   ],
   "source": [
    "!pwd"
   ]
  },
  {
   "cell_type": "code",
   "execution_count": 36,
   "id": "dbf62a17-a083-4db8-b3b1-df88841426f9",
   "metadata": {},
   "outputs": [],
   "source": [
    "path = \"/home/drugo/tiff/tiff\""
   ]
  },
  {
   "cell_type": "code",
   "execution_count": 37,
   "id": "cac3e040-b9cd-4437-9675-5a0b08ad44dd",
   "metadata": {},
   "outputs": [],
   "source": [
    "os.chdir(path)"
   ]
  },
  {
   "cell_type": "code",
   "execution_count": 38,
   "id": "12784255-f5a2-415d-a418-0cdb66287cc5",
   "metadata": {},
   "outputs": [],
   "source": [
    "def read_tiff_file(file_path):\n",
    "    with open(file_path, 'r') as f:\n",
    "        print(f.read())"
   ]
  },
  {
   "cell_type": "code",
   "execution_count": null,
   "id": "295efea8-2be8-44b5-8fc7-00d628969f60",
   "metadata": {},
   "outputs": [],
   "source": []
  },
  {
   "cell_type": "code",
   "execution_count": 52,
   "id": "f0de01a1-5d6a-400e-9213-83baebca2c6d",
   "metadata": {},
   "outputs": [],
   "source": [
    "def read_tiff_file(file_path):\n",
    "    centroids = []\n",
    "    with rasterio.open(file_path) as src:\n",
    "        crs = src.crs\n",
    "        src_band = src.read(1)\n",
    "        src_band[src_band<=1]=255\n",
    "        src_band[src_band<255]=1\n",
    "        unique_values = np.unique(src_band)\n",
    "        unique_values = unique_values[[0]]\n",
    "        shapes = list(rasterio.features.shapes(src_band, transform=src.transform))\n",
    "        \n",
    "        shp_polygon_schema = {\n",
    "            'geometry': 'MultiPolygon',\n",
    "            'properties': {'id':'int'}\n",
    "        }\n",
    "        \n",
    "        with fiona.open('../polygons/'+file_path.replace('.tiff','.shp'),'w','ESRI Shapefile',shp_polygon_schema) as shp:\n",
    "            for pixel_value in unique_values:\n",
    "                polygons = [shape(geom) for geom, value in shapes\n",
    "                            if value == pixel_value]\n",
    "                for i in range(len(polygons)):\n",
    "                    multipolygon = MultiPolygon(polygons)    \n",
    "                                \n",
    "            shp.write({\n",
    "                'geometry': mapping(multipolygon),\n",
    "                'properties': {'id': int(file_path[:-5])}\n",
    "            })\n",
    "            \n",
    "        shp_centroid_schema = {\n",
    "            'geometry': 'Point',\n",
    "            'properties': {'id':'int'}#{'area': 'float'}\n",
    "        }\n",
    "        centroids.append(multipolygon.centroid)\n",
    "        \n",
    "        with fiona.open('../centroids/'+file_path.replace('.tiff','_centroid.shp'),'w','ESRI Shapefile',shp_centroid_schema) as shp:\n",
    "            shp.write({\n",
    "                'geometry': mapping(multipolygon.centroid),\n",
    "                'properties': {'id': int(file_path[:-5])}\n",
    "            })\n",
    "            return centroids\n",
    "            \n",
    "    "
   ]
  },
  {
   "cell_type": "code",
   "execution_count": 53,
   "id": "1999e7b7-a42e-4a7e-b101-ce120f11ff37",
   "metadata": {},
   "outputs": [],
   "source": [
    "# shp_schema = {\n",
    "#     'geometry': 'MultiPolygon',\n",
    "#     'properties': {'id':'int'}\n",
    "# }"
   ]
  },
  {
   "cell_type": "code",
   "execution_count": 54,
   "id": "9f445e63-da2d-4b20-a2e6-bfcce9de8206",
   "metadata": {},
   "outputs": [],
   "source": [
    "# with fiona.open(file_path.replace('.tiff','.shp'),'w','ESRI Shapefile',shp_schema) as shp:\n",
    "#     for pixel_value in unique_values:\n",
    "#         polygons = [shape(geom) for geom, value in shapes\n",
    "#                         if value == pixel_value]\n",
    "#         for i in range(len(polygons)):\n",
    "#             multipolygon = MultiPolygon(polygons)\n",
    "        \n",
    "#         print(int(file_path[:-5]))\n",
    "#         shp.write({\n",
    "#             'geometry': mapping(multipolygon),\n",
    "#             'properties': {'id': int(file_path[17:-5])}#'area': float(multipolygon.area),\n",
    "#             #'pixelvalue': int(pixel_value)},\n",
    "#         })\n",
    "    "
   ]
  },
  {
   "cell_type": "code",
   "execution_count": null,
   "id": "dbb40f57-2e87-4d0a-b623-3e314a08be98",
   "metadata": {},
   "outputs": [],
   "source": []
  },
  {
   "cell_type": "code",
   "execution_count": 55,
   "id": "140916f3-6a7a-4289-a5c0-37727e6c0a3d",
   "metadata": {},
   "outputs": [],
   "source": [
    "# with fiona.open('centroids.shp','w','ESRI Shapefile',shp_schema) as shp:\n",
    "#     shp.write({              \n",
    "#         'geometry': mapping(multipolygon),\n",
    "#         'properties': {'pixelvalue': int(pixel_value)},\n",
    "#         'time': {file_path[17:-5]}\n",
    "#     })\n"
   ]
  },
  {
   "cell_type": "code",
   "execution_count": 56,
   "id": "d0ba240e-a6e8-4edb-a199-adb88dd751d3",
   "metadata": {},
   "outputs": [],
   "source": [
    "# radar_time=[]\n",
    "\n",
    "# for file in os.listdir():\n",
    "#     if file.endswith(\".tiff\"):\n",
    "#         print(file)\n",
    "#         file_path = f\"{path}/{file}\"\n",
    "#         radar_time.append(file_path[17:-5])"
   ]
  },
  {
   "cell_type": "code",
   "execution_count": 57,
   "id": "2d21dad5-f116-464a-aac1-ce03c526bb77",
   "metadata": {},
   "outputs": [
    {
     "name": "stdout",
     "output_type": "stream",
     "text": [
      "201909092300.tiff\n",
      "201909092305.tiff\n",
      "201909092340.tiff\n",
      "201909100030.tiff\n",
      "201909100015.tiff\n",
      "201909100040.tiff\n",
      "201909092140.tiff\n",
      "201909092125.tiff\n",
      "201909100205.tiff\n",
      "201909100135.tiff\n",
      "201909092150.tiff\n",
      "201909092345.tiff\n",
      "201909092320.tiff\n",
      "201909100105.tiff\n",
      "201909092310.tiff\n",
      "201909092355.tiff\n",
      "201909100005.tiff\n",
      "201909100050.tiff\n",
      "201909092315.tiff\n",
      "201909100010.tiff\n",
      "201909092330.tiff\n",
      "201909092335.tiff\n",
      "201909100020.tiff\n",
      "201909092250.tiff\n",
      "201909092245.tiff\n",
      "201909092235.tiff\n",
      "201909092350.tiff\n",
      "201909100110.tiff\n",
      "201909092120.tiff\n",
      "201909092135.tiff\n",
      "201909092225.tiff\n",
      "201909100000.tiff\n",
      "201909100145.tiff\n",
      "201909100215.tiff\n",
      "201909100115.tiff\n",
      "201909092130.tiff\n",
      "201909100125.tiff\n",
      "201909100130.tiff\n",
      "201909100150.tiff\n",
      "201909100025.tiff\n",
      "201909100055.tiff\n",
      "201909092325.tiff\n",
      "201909100045.tiff\n",
      "201909100100.tiff\n",
      "201909092240.tiff\n",
      "201909100200.tiff\n",
      "201909100035.tiff\n",
      "201909100210.tiff\n",
      "201909100155.tiff\n",
      "201909092205.tiff\n",
      "201909100120.tiff\n",
      "201909092220.tiff\n",
      "201909092155.tiff\n",
      "201909092230.tiff\n",
      "201909092215.tiff\n",
      "201909092255.tiff\n",
      "201909092145.tiff\n",
      "201909100140.tiff\n",
      "201909092200.tiff\n",
      "201909092210.tiff\n"
     ]
    }
   ],
   "source": [
    "for file in os.listdir():\n",
    "    if file.endswith(\".tiff\"):\n",
    "        print(file)\n",
    "        read_tiff_file(file)"
   ]
  },
  {
   "cell_type": "code",
   "execution_count": 58,
   "id": "5d80910c-c9d6-45f6-9909-cdcbdc0c2dde",
   "metadata": {},
   "outputs": [
    {
     "ename": "NameError",
     "evalue": "name 'centroids' is not defined",
     "output_type": "error",
     "traceback": [
      "\u001b[0;31m---------------------------------------------------------------------------\u001b[0m",
      "\u001b[0;31mNameError\u001b[0m                                 Traceback (most recent call last)",
      "\u001b[0;32m/tmp/ipykernel_131311/4041987963.py\u001b[0m in \u001b[0;36m<module>\u001b[0;34m\u001b[0m\n\u001b[0;32m----> 1\u001b[0;31m \u001b[0mcentroids\u001b[0m\u001b[0;34m\u001b[0m\u001b[0;34m\u001b[0m\u001b[0m\n\u001b[0m",
      "\u001b[0;31mNameError\u001b[0m: name 'centroids' is not defined"
     ]
    }
   ],
   "source": [
    "centroids"
   ]
  },
  {
   "cell_type": "code",
   "execution_count": 76,
   "id": "9e430313-fd03-4415-a714-787a77cb38fa",
   "metadata": {},
   "outputs": [
    {
     "ename": "NameError",
     "evalue": "name 'polygons' is not defined",
     "output_type": "error",
     "traceback": [
      "\u001b[0;31m---------------------------------------------------------------------------\u001b[0m",
      "\u001b[0;31mNameError\u001b[0m                                 Traceback (most recent call last)",
      "\u001b[0;32m/tmp/ipykernel_124939/2730701452.py\u001b[0m in \u001b[0;36m<module>\u001b[0;34m\u001b[0m\n\u001b[0;32m----> 1\u001b[0;31m \u001b[0mpolygons\u001b[0m\u001b[0;34m\u001b[0m\u001b[0;34m\u001b[0m\u001b[0m\n\u001b[0m",
      "\u001b[0;31mNameError\u001b[0m: name 'polygons' is not defined"
     ]
    }
   ],
   "source": [
    "polygons"
   ]
  },
  {
   "cell_type": "code",
   "execution_count": 29,
   "id": "a88c1d6a-eaa4-4204-9c46-680749c0871f",
   "metadata": {},
   "outputs": [
    {
     "ename": "IndentationError",
     "evalue": "unexpected indent (2079581588.py, line 5)",
     "output_type": "error",
     "traceback": [
      "\u001b[0;36m  File \u001b[0;32m\"/tmp/ipykernel_124939/2079581588.py\"\u001b[0;36m, line \u001b[0;32m5\u001b[0m\n\u001b[0;31m    rain = []\u001b[0m\n\u001b[0m    ^\u001b[0m\n\u001b[0;31mIndentationError\u001b[0m\u001b[0;31m:\u001b[0m unexpected indent\n"
     ]
    }
   ],
   "source": [
    "with fiona.open(file_path.replace('.tiff','.shp'),'w','ESRI Shapefile',shp_schema) as shp:\n",
    "    for pixel_value in unique_values:\n",
    "        polygons = [shape(geom) for geom, value in shapes\n",
    "                        if value == pixel_value]\n",
    "            rain = []\n",
    "#             centroidi.append(multipolygon.centroid)\n",
    "            for i in range(len(polygons)):\n",
    "                if polygons[i].area>50:\n",
    "                    rain.append(polygons[i])                     \n",
    "                    multipolygon = MultiPolygon(rain)\n",
    "                    radar_time.append(file_path[17:-5])\n",
    "\n",
    "                    shp.write({\n",
    "                        'geometry': mapping(multipolygon),\n",
    "#                         'properties': {'pixelvalue': int(pixel_value)},\n",
    "#                         'time': '0900'\n",
    "                    })"
   ]
  },
  {
   "cell_type": "code",
   "execution_count": 44,
   "id": "eeb9504a-b46b-4f2e-9aed-6c376e96d8a3",
   "metadata": {},
   "outputs": [
    {
     "ename": "NameError",
     "evalue": "name 'centroidi' is not defined",
     "output_type": "error",
     "traceback": [
      "\u001b[0;31m---------------------------------------------------------------------------\u001b[0m",
      "\u001b[0;31mNameError\u001b[0m                                 Traceback (most recent call last)",
      "\u001b[0;32m/tmp/ipykernel_123196/1541987072.py\u001b[0m in \u001b[0;36m<module>\u001b[0;34m\u001b[0m\n\u001b[0;32m----> 1\u001b[0;31m \u001b[0mcentroidi\u001b[0m\u001b[0;34m\u001b[0m\u001b[0;34m\u001b[0m\u001b[0m\n\u001b[0m",
      "\u001b[0;31mNameError\u001b[0m: name 'centroidi' is not defined"
     ]
    }
   ],
   "source": [
    "centroidi"
   ]
  },
  {
   "cell_type": "code",
   "execution_count": 288,
   "id": "c2f43bdd-4653-4ef0-96b7-a72584a69aff",
   "metadata": {},
   "outputs": [
    {
     "ename": "NameError",
     "evalue": "name 'radar_time' is not defined",
     "output_type": "error",
     "traceback": [
      "\u001b[0;31m---------------------------------------------------------------------------\u001b[0m",
      "\u001b[0;31mNameError\u001b[0m                                 Traceback (most recent call last)",
      "\u001b[0;32m/tmp/ipykernel_27681/708375438.py\u001b[0m in \u001b[0;36m<module>\u001b[0;34m\u001b[0m\n\u001b[0;32m----> 1\u001b[0;31m \u001b[0mradar_time\u001b[0m\u001b[0;34m\u001b[0m\u001b[0;34m\u001b[0m\u001b[0m\n\u001b[0m",
      "\u001b[0;31mNameError\u001b[0m: name 'radar_time' is not defined"
     ]
    }
   ],
   "source": [
    "radar_time"
   ]
  },
  {
   "cell_type": "code",
   "execution_count": null,
   "id": "90bc772d-06ce-467e-bb34-03fe32cb786b",
   "metadata": {},
   "outputs": [],
   "source": [
    "with fiona.open('output_redox.shp', \n",
    "                'w', \n",
    "                'ESRI Shapefile', \n",
    "                shp_schema) as shp:\n",
    "    for pixel_value in unique_values:\n",
    "        polygons = [shape(geom) for geom, value in shapes\n",
    "                    if value == pixel_value]\n",
    "        print(len(polygons))\n",
    "        rain = []\n",
    "        for i in range(len(polygons)):\n",
    "            if polygons[i].area>50:\n",
    "                rain.append(polygons[i])                     \n",
    "        print(MultiPolygon(polygons).area)\n",
    "        multipolygon = MultiPolygon(rain)\n",
    "        centroidi.append(multipolygon.centroid)\n",
    "        shp.write({\n",
    "            'geometry': mapping(multipolygon),\n",
    "            'properties': {'pixelvalue': int(pixel_value)}\n",
    "        })\n",
    "        "
   ]
  },
  {
   "cell_type": "code",
   "execution_count": 239,
   "id": "7c877f88-ff77-4318-83aa-6c2e6fccbc92",
   "metadata": {},
   "outputs": [
    {
     "name": "stdout",
     "output_type": "stream",
     "text": [
      "154\n",
      "6051.0\n"
     ]
    }
   ],
   "source": [
    "    \n",
    "# shp_schema = {\n",
    "#     'geometry': 'MultiPolygon',\n",
    "#     'properties': {'pixelvalue': 'int'}\n",
    "# }\n",
    "# centroidi = []\n",
    "with fiona.open('output_redox.shp', \n",
    "                'w', \n",
    "                'ESRI Shapefile', \n",
    "                shp_schema) as shp:\n",
    "    for pixel_value in unique_values:\n",
    "        polygons = [shape(geom) for geom, value in shapes\n",
    "                    if value == pixel_value]\n",
    "        print(len(polygons))\n",
    "        rain = []\n",
    "        for i in range(len(polygons)):\n",
    "            if polygons[i].area>50:\n",
    "                rain.append(polygons[i])                     \n",
    "        print(MultiPolygon(polygons).area)\n",
    "        multipolygon = MultiPolygon(rain)\n",
    "        centroidi.append(multipolygon.centroid)\n",
    "        shp.write({\n",
    "            'geometry': mapping(multipolygon),\n",
    "            'properties': {'pixelvalue': int(pixel_value)}\n",
    "        })\n",
    "        "
   ]
  },
  {
   "cell_type": "code",
   "execution_count": 230,
   "id": "4ae1d6d7-0124-47dc-92af-144b3ccf8c92",
   "metadata": {},
   "outputs": [
    {
     "ename": "TypeError",
     "evalue": "'int' object is not iterable",
     "output_type": "error",
     "traceback": [
      "\u001b[0;31m---------------------------------------------------------------------------\u001b[0m",
      "\u001b[0;31mTypeError\u001b[0m                                 Traceback (most recent call last)",
      "\u001b[0;32m/tmp/ipykernel_27681/938888224.py\u001b[0m in \u001b[0;36m<module>\u001b[0;34m\u001b[0m\n\u001b[0;32m----> 1\u001b[0;31m \u001b[0mrain\u001b[0m \u001b[0;34m=\u001b[0m \u001b[0mMultiPolygon\u001b[0m\u001b[0;34m(\u001b[0m\u001b[0;34m[\u001b[0m\u001b[0mPolygons\u001b[0m\u001b[0;34m[\u001b[0m\u001b[0mi\u001b[0m\u001b[0;34m]\u001b[0m \u001b[0;32mfor\u001b[0m \u001b[0mi\u001b[0m \u001b[0;32min\u001b[0m \u001b[0mlen\u001b[0m\u001b[0;34m(\u001b[0m\u001b[0mPolygons\u001b[0m\u001b[0;34m)\u001b[0m \u001b[0;32mif\u001b[0m \u001b[0mPolygon\u001b[0m\u001b[0;34m(\u001b[0m\u001b[0mPolygons\u001b[0m\u001b[0;34m[\u001b[0m\u001b[0mi\u001b[0m\u001b[0;34m]\u001b[0m\u001b[0;34m)\u001b[0m\u001b[0;34m.\u001b[0m\u001b[0marea\u001b[0m\u001b[0;34m>\u001b[0m\u001b[0;36m50\u001b[0m\u001b[0;34m]\u001b[0m\u001b[0;34m)\u001b[0m\u001b[0;34m\u001b[0m\u001b[0;34m\u001b[0m\u001b[0m\n\u001b[0m",
      "\u001b[0;31mTypeError\u001b[0m: 'int' object is not iterable"
     ]
    }
   ],
   "source": [
    "rain = MultiPolygon([Polygons[i] for i in len(Polygons) if Polygon(Polygons[i]).area>50])"
   ]
  },
  {
   "cell_type": "code",
   "execution_count": 172,
   "id": "a549d836-d144-4054-ae4a-d26ec4dd6646",
   "metadata": {},
   "outputs": [],
   "source": [
    "# Drop small precipitation\n",
    "# Area treeshold was fixed arbitrary\n",
    "rain = MultiPolygon([Polygons[i] for Polygons[i] in Polygons if Polygon(Polygons[i]).area>50])"
   ]
  },
  {
   "cell_type": "code",
   "execution_count": 219,
   "id": "949583b6-8a7b-480f-bc3b-8ff2764fae5c",
   "metadata": {},
   "outputs": [
    {
     "data": {
      "image/svg+xml": [
       "<svg xmlns=\"http://www.w3.org/2000/svg\" xmlns:xlink=\"http://www.w3.org/1999/xlink\" width=\"100.0\" height=\"100.0\" viewBox=\"87.33703973751368 279.91924899744805 2.0 2.0\" preserveAspectRatio=\"xMinYMin meet\"><g transform=\"matrix(1,0,0,-1,0,561.8384979948961)\"><circle cx=\"88.33703973751368\" cy=\"280.91924899744805\" r=\"0.06\" stroke=\"#555555\" stroke-width=\"0.02\" fill=\"#66cc99\" opacity=\"0.6\" /></g></svg>"
      ],
      "text/plain": [
       "<shapely.geometry.point.Point at 0x7f00ef393b90>"
      ]
     },
     "execution_count": 219,
     "metadata": {},
     "output_type": "execute_result"
    }
   ],
   "source": [
    "rain.centroid"
   ]
  },
  {
   "cell_type": "code",
   "execution_count": 173,
   "id": "849d9a18-d81b-45f6-88b5-a8a429391211",
   "metadata": {},
   "outputs": [],
   "source": [
    "# aree = np.zeros(len(Polygons))"
   ]
  },
  {
   "cell_type": "code",
   "execution_count": 174,
   "id": "c234817e-f2df-4136-abb0-d563f1b0f503",
   "metadata": {},
   "outputs": [],
   "source": [
    "# for i in range(len(Polygons)):\n",
    "#     #print(i)\n",
    "#     aree[i] = (Polygon(Polygons[i]).area)\n",
    "#     if Polygon(Polygons[i]).area<10:\n",
    "#         #print('area piccola')\n",
    "#         #Polygons[i].\n",
    "#     else:\n",
    "#         print('area regolare')\n"
   ]
  },
  {
   "cell_type": "code",
   "execution_count": 175,
   "id": "3f0cb4d1-0d07-4a39-9a03-73b7a89ce243",
   "metadata": {},
   "outputs": [
    {
     "data": {
      "image/svg+xml": [
       "<svg xmlns=\"http://www.w3.org/2000/svg\" xmlns:xlink=\"http://www.w3.org/1999/xlink\" width=\"300\" height=\"300\" viewBox=\"-10.04 46.96 568.0799999999999 490.08\" preserveAspectRatio=\"xMinYMin meet\"><g transform=\"matrix(1,0,0,-1,0,584.0)\"><g><path fill-rule=\"evenodd\" fill=\"#ff3333\" stroke=\"#555555\" stroke-width=\"3.7871999999999995\" opacity=\"0.6\" d=\"M 292.0,68.0 L 292.0,70.0 L 294.0,70.0 L 294.0,68.0 L 292.0,68.0 z\" /><path fill-rule=\"evenodd\" fill=\"#ff3333\" stroke=\"#555555\" stroke-width=\"3.7871999999999995\" opacity=\"0.6\" d=\"M 296.0,73.0 L 296.0,74.0 L 295.0,74.0 L 295.0,75.0 L 297.0,75.0 L 297.0,77.0 L 298.0,77.0 L 298.0,76.0 L 299.0,76.0 L 299.0,75.0 L 298.0,75.0 L 298.0,73.0 L 296.0,73.0 z\" /><path fill-rule=\"evenodd\" fill=\"#ff3333\" stroke=\"#555555\" stroke-width=\"3.7871999999999995\" opacity=\"0.6\" d=\"M 299.0,74.0 L 299.0,75.0 L 300.0,75.0 L 300.0,74.0 L 299.0,74.0 z\" /><path fill-rule=\"evenodd\" fill=\"#ff3333\" stroke=\"#555555\" stroke-width=\"3.7871999999999995\" opacity=\"0.6\" d=\"M 85.0,171.0 L 85.0,172.0 L 84.0,172.0 L 84.0,173.0 L 85.0,173.0 L 86.0,173.0 L 86.0,171.0 L 85.0,171.0 z\" /><path fill-rule=\"evenodd\" fill=\"#ff3333\" stroke=\"#555555\" stroke-width=\"3.7871999999999995\" opacity=\"0.6\" d=\"M 527.0,174.0 L 527.0,176.0 L 528.0,176.0 L 528.0,174.0 L 527.0,174.0 z\" /><path fill-rule=\"evenodd\" fill=\"#ff3333\" stroke=\"#555555\" stroke-width=\"3.7871999999999995\" opacity=\"0.6\" d=\"M 456.0,175.0 L 456.0,177.0 L 457.0,177.0 L 457.0,175.0 L 456.0,175.0 z\" /><path fill-rule=\"evenodd\" fill=\"#ff3333\" stroke=\"#555555\" stroke-width=\"3.7871999999999995\" opacity=\"0.6\" d=\"M 470.0,183.0 L 470.0,185.0 L 471.0,185.0 L 471.0,186.0 L 472.0,186.0 L 472.0,185.0 L 473.0,185.0 L 474.0,185.0 L 474.0,184.0 L 472.0,184.0 L 472.0,183.0 L 470.0,183.0 z\" /><path fill-rule=\"evenodd\" fill=\"#ff3333\" stroke=\"#555555\" stroke-width=\"3.7871999999999995\" opacity=\"0.6\" d=\"M 529.0,175.0 L 529.0,176.0 L 528.0,176.0 L 528.0,177.0 L 527.0,177.0 L 527.0,178.0 L 528.0,178.0 L 528.0,179.0 L 527.0,179.0 L 527.0,180.0 L 528.0,180.0 L 528.0,186.0 L 527.0,186.0 L 527.0,189.0 L 528.0,189.0 L 528.0,190.0 L 529.0,190.0 L 529.0,191.0 L 530.0,191.0 L 530.0,192.0 L 531.0,192.0 L 531.0,191.0 L 532.0,191.0 L 532.0,192.0 L 534.0,192.0 L 534.0,191.0 L 535.0,191.0 L 535.0,189.0 L 536.0,189.0 L 536.0,188.0 L 537.0,188.0 L 537.0,185.0 L 532.0,185.0 L 532.0,179.0 L 533.0,179.0 L 533.0,177.0 L 532.0,177.0 L 532.0,175.0 L 529.0,175.0 z\" /><path fill-rule=\"evenodd\" fill=\"#ff3333\" stroke=\"#555555\" stroke-width=\"3.7871999999999995\" opacity=\"0.6\" d=\"M 475.0,187.0 L 475.0,188.0 L 474.0,188.0 L 474.0,190.0 L 475.0,190.0 L 475.0,191.0 L 478.0,191.0 L 478.0,190.0 L 479.0,190.0 L 479.0,187.0 L 475.0,187.0 z\" /><path fill-rule=\"evenodd\" fill=\"#ff3333\" stroke=\"#555555\" stroke-width=\"3.7871999999999995\" opacity=\"0.6\" d=\"M 90.0,192.0 L 90.0,193.0 L 89.0,193.0 L 89.0,194.0 L 90.0,194.0 L 91.0,194.0 L 91.0,192.0 L 90.0,192.0 z\" /><path fill-rule=\"evenodd\" fill=\"#ff3333\" stroke=\"#555555\" stroke-width=\"3.7871999999999995\" opacity=\"0.6\" d=\"M 485.0,193.0 L 485.0,194.0 L 486.0,194.0 L 486.0,193.0 L 485.0,193.0 z\" /><path fill-rule=\"evenodd\" fill=\"#ff3333\" stroke=\"#555555\" stroke-width=\"3.7871999999999995\" opacity=\"0.6\" d=\"M 88.0,194.0 L 88.0,195.0 L 87.0,195.0 L 87.0,196.0 L 86.0,196.0 L 86.0,198.0 L 89.0,198.0 L 90.0,198.0 L 90.0,195.0 L 89.0,195.0 L 89.0,194.0 L 88.0,194.0 z\" /><path fill-rule=\"evenodd\" fill=\"#ff3333\" stroke=\"#555555\" stroke-width=\"3.7871999999999995\" opacity=\"0.6\" d=\"M 101.0,232.0 L 101.0,233.0 L 102.0,233.0 L 102.0,232.0 L 101.0,232.0 z\" /><path fill-rule=\"evenodd\" fill=\"#ff3333\" stroke=\"#555555\" stroke-width=\"3.7871999999999995\" opacity=\"0.6\" d=\"M 71.0,235.0 L 71.0,236.0 L 72.0,236.0 L 72.0,235.0 L 71.0,235.0 z\" /><path fill-rule=\"evenodd\" fill=\"#ff3333\" stroke=\"#555555\" stroke-width=\"3.7871999999999995\" opacity=\"0.6\" d=\"M 100.0,233.0 L 100.0,234.0 L 99.0,234.0 L 99.0,235.0 L 98.0,235.0 L 98.0,236.0 L 97.0,236.0 L 97.0,238.0 L 96.0,238.0 L 96.0,239.0 L 97.0,239.0 L 97.0,240.0 L 98.0,240.0 L 98.0,241.0 L 100.0,241.0 L 100.0,242.0 L 101.0,242.0 L 101.0,241.0 L 102.0,241.0 L 103.0,241.0 L 103.0,240.0 L 102.0,240.0 L 102.0,239.0 L 103.0,239.0 L 103.0,237.0 L 104.0,237.0 L 104.0,236.0 L 105.0,236.0 L 105.0,234.0 L 104.0,234.0 L 104.0,233.0 L 103.0,233.0 L 103.0,235.0 L 101.0,235.0 L 101.0,233.0 L 100.0,233.0 z\" /><path fill-rule=\"evenodd\" fill=\"#ff3333\" stroke=\"#555555\" stroke-width=\"3.7871999999999995\" opacity=\"0.6\" d=\"M 75.0,241.0 L 75.0,242.0 L 76.0,242.0 L 76.0,241.0 L 75.0,241.0 z\" /><path fill-rule=\"evenodd\" fill=\"#ff3333\" stroke=\"#555555\" stroke-width=\"3.7871999999999995\" opacity=\"0.6\" d=\"M 101.0,242.0 L 101.0,243.0 L 102.0,243.0 L 102.0,242.0 L 101.0,242.0 z\" /><path fill-rule=\"evenodd\" fill=\"#ff3333\" stroke=\"#555555\" stroke-width=\"3.7871999999999995\" opacity=\"0.6\" d=\"M 79.0,247.0 L 79.0,248.0 L 80.0,248.0 L 80.0,247.0 L 79.0,247.0 z\" /><path fill-rule=\"evenodd\" fill=\"#ff3333\" stroke=\"#555555\" stroke-width=\"3.7871999999999995\" opacity=\"0.6\" d=\"M 28.0,254.0 L 28.0,255.0 L 29.0,255.0 L 29.0,254.0 L 28.0,254.0 z\" /><path fill-rule=\"evenodd\" fill=\"#ff3333\" stroke=\"#555555\" stroke-width=\"3.7871999999999995\" opacity=\"0.6\" d=\"M 86.0,255.0 L 86.0,256.0 L 87.0,256.0 L 87.0,255.0 L 86.0,255.0 z\" /><path fill-rule=\"evenodd\" fill=\"#ff3333\" stroke=\"#555555\" stroke-width=\"3.7871999999999995\" opacity=\"0.6\" d=\"M 85.0,257.0 L 85.0,258.0 L 86.0,258.0 L 86.0,257.0 L 85.0,257.0 z\" /><path fill-rule=\"evenodd\" fill=\"#ff3333\" stroke=\"#555555\" stroke-width=\"3.7871999999999995\" opacity=\"0.6\" d=\"M 86.0,258.0 L 86.0,259.0 L 87.0,259.0 L 87.0,258.0 L 86.0,258.0 z\" /><path fill-rule=\"evenodd\" fill=\"#ff3333\" stroke=\"#555555\" stroke-width=\"3.7871999999999995\" opacity=\"0.6\" d=\"M 87.0,259.0 L 87.0,260.0 L 88.0,260.0 L 88.0,259.0 L 87.0,259.0 z\" /><path fill-rule=\"evenodd\" fill=\"#ff3333\" stroke=\"#555555\" stroke-width=\"3.7871999999999995\" opacity=\"0.6\" d=\"M 139.0,265.0 L 139.0,266.0 L 140.0,266.0 L 140.0,265.0 L 139.0,265.0 z\" /><path fill-rule=\"evenodd\" fill=\"#ff3333\" stroke=\"#555555\" stroke-width=\"3.7871999999999995\" opacity=\"0.6\" d=\"M 83.0,266.0 L 83.0,267.0 L 84.0,267.0 L 84.0,266.0 L 83.0,266.0 z\" /><path fill-rule=\"evenodd\" fill=\"#ff3333\" stroke=\"#555555\" stroke-width=\"3.7871999999999995\" opacity=\"0.6\" d=\"M 139.0,276.0 L 139.0,278.0 L 140.0,278.0 L 140.0,276.0 L 139.0,276.0 z\" /><path fill-rule=\"evenodd\" fill=\"#ff3333\" stroke=\"#555555\" stroke-width=\"3.7871999999999995\" opacity=\"0.6\" d=\"M 83.0,277.0 L 83.0,281.0 L 84.0,281.0 L 84.0,280.0 L 85.0,280.0 L 85.0,277.0 L 83.0,277.0 z\" /><path fill-rule=\"evenodd\" fill=\"#ff3333\" stroke=\"#555555\" stroke-width=\"3.7871999999999995\" opacity=\"0.6\" d=\"M 142.0,278.0 L 142.0,279.0 L 143.0,279.0 L 143.0,278.0 L 142.0,278.0 z\" /><path fill-rule=\"evenodd\" fill=\"#ff3333\" stroke=\"#555555\" stroke-width=\"3.7871999999999995\" opacity=\"0.6\" d=\"M 81.0,279.0 L 81.0,280.0 L 82.0,280.0 L 82.0,279.0 L 81.0,279.0 z\" /><path fill-rule=\"evenodd\" fill=\"#ff3333\" stroke=\"#555555\" stroke-width=\"3.7871999999999995\" opacity=\"0.6\" d=\"M 140.0,279.0 L 140.0,280.0 L 141.0,280.0 L 141.0,279.0 L 140.0,279.0 z\" /><path fill-rule=\"evenodd\" fill=\"#ff3333\" stroke=\"#555555\" stroke-width=\"3.7871999999999995\" opacity=\"0.6\" d=\"M 100.0,280.0 L 100.0,281.0 L 101.0,281.0 L 101.0,280.0 L 100.0,280.0 z\" /><path fill-rule=\"evenodd\" fill=\"#ff3333\" stroke=\"#555555\" stroke-width=\"3.7871999999999995\" opacity=\"0.6\" d=\"M 139.0,280.0 L 139.0,281.0 L 140.0,281.0 L 140.0,280.0 L 139.0,280.0 z\" /><path fill-rule=\"evenodd\" fill=\"#ff3333\" stroke=\"#555555\" stroke-width=\"3.7871999999999995\" opacity=\"0.6\" d=\"M 140.0,281.0 L 140.0,283.0 L 141.0,283.0 L 141.0,281.0 L 140.0,281.0 z\" /><path fill-rule=\"evenodd\" fill=\"#ff3333\" stroke=\"#555555\" stroke-width=\"3.7871999999999995\" opacity=\"0.6\" d=\"M 142.0,281.0 L 142.0,283.0 L 143.0,283.0 L 143.0,281.0 L 142.0,281.0 z\" /><path fill-rule=\"evenodd\" fill=\"#ff3333\" stroke=\"#555555\" stroke-width=\"3.7871999999999995\" opacity=\"0.6\" d=\"M 97.0,282.0 L 97.0,283.0 L 98.0,283.0 L 98.0,282.0 L 97.0,282.0 z\" /><path fill-rule=\"evenodd\" fill=\"#ff3333\" stroke=\"#555555\" stroke-width=\"3.7871999999999995\" opacity=\"0.6\" d=\"M 46.0,284.0 L 46.0,285.0 L 47.0,285.0 L 47.0,284.0 L 46.0,284.0 z\" /><path fill-rule=\"evenodd\" fill=\"#ff3333\" stroke=\"#555555\" stroke-width=\"3.7871999999999995\" opacity=\"0.6\" d=\"M 96.0,284.0 L 96.0,285.0 L 97.0,285.0 L 97.0,284.0 L 96.0,284.0 z\" /><path fill-rule=\"evenodd\" fill=\"#ff3333\" stroke=\"#555555\" stroke-width=\"3.7871999999999995\" opacity=\"0.6\" d=\"M 92.0,286.0 L 92.0,287.0 L 93.0,287.0 L 93.0,286.0 L 92.0,286.0 z\" /><path fill-rule=\"evenodd\" fill=\"#ff3333\" stroke=\"#555555\" stroke-width=\"3.7871999999999995\" opacity=\"0.6\" d=\"M 140.0,286.0 L 140.0,288.0 L 141.0,288.0 L 141.0,287.0 L 142.0,287.0 L 142.0,286.0 L 140.0,286.0 z\" /><path fill-rule=\"evenodd\" fill=\"#ff3333\" stroke=\"#555555\" stroke-width=\"3.7871999999999995\" opacity=\"0.6\" d=\"M 49.0,288.0 L 49.0,290.0 L 50.0,290.0 L 50.0,288.0 L 49.0,288.0 z\" /><path fill-rule=\"evenodd\" fill=\"#ff3333\" stroke=\"#555555\" stroke-width=\"3.7871999999999995\" opacity=\"0.6\" d=\"M 137.0,288.0 L 137.0,289.0 L 138.0,289.0 L 138.0,288.0 L 137.0,288.0 z\" /><path fill-rule=\"evenodd\" fill=\"#ff3333\" stroke=\"#555555\" stroke-width=\"3.7871999999999995\" opacity=\"0.6\" d=\"M 149.0,288.0 L 149.0,289.0 L 150.0,289.0 L 150.0,288.0 L 149.0,288.0 z\" /><path fill-rule=\"evenodd\" fill=\"#ff3333\" stroke=\"#555555\" stroke-width=\"3.7871999999999995\" opacity=\"0.6\" d=\"M 148.0,293.0 L 148.0,294.0 L 149.0,294.0 L 149.0,293.0 L 148.0,293.0 z\" /><path fill-rule=\"evenodd\" fill=\"#ff3333\" stroke=\"#555555\" stroke-width=\"3.7871999999999995\" opacity=\"0.6\" d=\"M 118.0,294.0 L 118.0,295.0 L 119.0,295.0 L 119.0,294.0 L 118.0,294.0 z\" /><path fill-rule=\"evenodd\" fill=\"#ff3333\" stroke=\"#555555\" stroke-width=\"3.7871999999999995\" opacity=\"0.6\" d=\"M 155.0,296.0 L 155.0,297.0 L 156.0,297.0 L 156.0,296.0 L 155.0,296.0 z\" /><path fill-rule=\"evenodd\" fill=\"#ff3333\" stroke=\"#555555\" stroke-width=\"3.7871999999999995\" opacity=\"0.6\" d=\"M 14.0,297.0 L 14.0,299.0 L 15.0,299.0 L 15.0,297.0 L 14.0,297.0 z\" /><path fill-rule=\"evenodd\" fill=\"#ff3333\" stroke=\"#555555\" stroke-width=\"3.7871999999999995\" opacity=\"0.6\" d=\"M 62.0,296.0 L 62.0,298.0 L 61.0,298.0 L 61.0,299.0 L 62.0,299.0 L 63.0,299.0 L 63.0,297.0 L 64.0,297.0 L 64.0,296.0 L 62.0,296.0 z\" /><path fill-rule=\"evenodd\" fill=\"#ff3333\" stroke=\"#555555\" stroke-width=\"3.7871999999999995\" opacity=\"0.6\" d=\"M 78.0,298.0 L 78.0,300.0 L 79.0,300.0 L 79.0,299.0 L 80.0,299.0 L 80.0,298.0 L 78.0,298.0 z\" /><path fill-rule=\"evenodd\" fill=\"#ff3333\" stroke=\"#555555\" stroke-width=\"3.7871999999999995\" opacity=\"0.6\" d=\"M 63.0,299.0 L 63.0,300.0 L 64.0,300.0 L 64.0,299.0 L 63.0,299.0 z\" /><path fill-rule=\"evenodd\" fill=\"#ff3333\" stroke=\"#555555\" stroke-width=\"3.7871999999999995\" opacity=\"0.6\" d=\"M 168.0,304.0 L 168.0,305.0 L 169.0,305.0 L 169.0,304.0 L 168.0,304.0 z\" /><path fill-rule=\"evenodd\" fill=\"#ff3333\" stroke=\"#555555\" stroke-width=\"3.7871999999999995\" opacity=\"0.6\" d=\"M 55.0,198.0 L 55.0,199.0 L 54.0,199.0 L 54.0,201.0 L 53.0,201.0 L 52.0,201.0 L 52.0,202.0 L 51.0,202.0 L 51.0,203.0 L 50.0,203.0 L 47.0,203.0 L 47.0,206.0 L 46.0,206.0 L 46.0,207.0 L 45.0,207.0 L 45.0,209.0 L 44.0,209.0 L 42.0,209.0 L 42.0,210.0 L 41.0,210.0 L 41.0,212.0 L 40.0,212.0 L 40.0,210.0 L 41.0,210.0 L 41.0,208.0 L 42.0,208.0 L 42.0,207.0 L 40.0,207.0 L 40.0,206.0 L 39.0,206.0 L 39.0,205.0 L 38.0,205.0 L 38.0,204.0 L 39.0,204.0 L 39.0,202.0 L 40.0,202.0 L 40.0,201.0 L 39.0,201.0 L 39.0,200.0 L 37.0,200.0 L 37.0,201.0 L 36.0,201.0 L 36.0,203.0 L 35.0,203.0 L 35.0,204.0 L 34.0,204.0 L 34.0,206.0 L 33.0,206.0 L 33.0,208.0 L 32.0,208.0 L 32.0,209.0 L 31.0,209.0 L 31.0,211.0 L 32.0,211.0 L 32.0,212.0 L 31.0,212.0 L 31.0,214.0 L 30.0,214.0 L 30.0,215.0 L 31.0,215.0 L 31.0,216.0 L 32.0,216.0 L 32.0,218.0 L 33.0,218.0 L 33.0,219.0 L 32.0,219.0 L 31.0,219.0 L 31.0,220.0 L 32.0,220.0 L 32.0,221.0 L 33.0,221.0 L 33.0,223.0 L 32.0,223.0 L 32.0,225.0 L 31.0,225.0 L 31.0,226.0 L 32.0,226.0 L 32.0,227.0 L 31.0,227.0 L 31.0,228.0 L 30.0,228.0 L 30.0,229.0 L 28.0,229.0 L 28.0,228.0 L 26.0,228.0 L 26.0,229.0 L 25.0,229.0 L 25.0,231.0 L 24.0,231.0 L 22.0,231.0 L 22.0,230.0 L 20.0,230.0 L 20.0,231.0 L 19.0,231.0 L 19.0,233.0 L 18.0,233.0 L 18.0,236.0 L 17.0,236.0 L 17.0,238.0 L 18.0,238.0 L 18.0,239.0 L 17.0,239.0 L 16.0,239.0 L 16.0,242.0 L 18.0,242.0 L 18.0,243.0 L 20.0,243.0 L 20.0,244.0 L 21.0,244.0 L 21.0,245.0 L 20.0,245.0 L 20.0,246.0 L 19.0,246.0 L 19.0,247.0 L 20.0,247.0 L 20.0,248.0 L 23.0,248.0 L 23.0,249.0 L 24.0,249.0 L 24.0,250.0 L 26.0,250.0 L 26.0,251.0 L 29.0,251.0 L 29.0,253.0 L 30.0,253.0 L 30.0,252.0 L 31.0,252.0 L 31.0,253.0 L 32.0,253.0 L 32.0,254.0 L 31.0,254.0 L 31.0,257.0 L 32.0,257.0 L 32.0,258.0 L 31.0,258.0 L 31.0,264.0 L 30.0,264.0 L 30.0,265.0 L 33.0,265.0 L 33.0,269.0 L 32.0,269.0 L 32.0,270.0 L 34.0,270.0 L 34.0,271.0 L 33.0,271.0 L 33.0,274.0 L 32.0,274.0 L 31.0,274.0 L 31.0,277.0 L 32.0,277.0 L 32.0,278.0 L 31.0,278.0 L 31.0,281.0 L 33.0,281.0 L 33.0,282.0 L 35.0,282.0 L 35.0,280.0 L 36.0,280.0 L 36.0,279.0 L 35.0,279.0 L 35.0,278.0 L 36.0,278.0 L 36.0,279.0 L 37.0,279.0 L 37.0,280.0 L 36.0,280.0 L 36.0,283.0 L 37.0,283.0 L 37.0,282.0 L 38.0,282.0 L 38.0,279.0 L 39.0,279.0 L 39.0,280.0 L 43.0,280.0 L 43.0,281.0 L 46.0,281.0 L 46.0,282.0 L 48.0,282.0 L 48.0,283.0 L 49.0,283.0 L 49.0,284.0 L 48.0,284.0 L 48.0,286.0 L 50.0,286.0 L 50.0,287.0 L 55.0,287.0 L 55.0,288.0 L 58.0,288.0 L 58.0,291.0 L 57.0,291.0 L 57.0,292.0 L 61.0,292.0 L 61.0,291.0 L 62.0,291.0 L 62.0,289.0 L 63.0,289.0 L 63.0,290.0 L 66.0,290.0 L 66.0,291.0 L 70.0,291.0 L 70.0,292.0 L 71.0,292.0 L 71.0,291.0 L 72.0,291.0 L 72.0,289.0 L 73.0,289.0 L 73.0,292.0 L 74.0,292.0 L 74.0,296.0 L 75.0,296.0 L 75.0,295.0 L 76.0,295.0 L 76.0,296.0 L 77.0,296.0 L 77.0,297.0 L 81.0,297.0 L 81.0,298.0 L 83.0,298.0 L 83.0,297.0 L 84.0,297.0 L 84.0,295.0 L 85.0,295.0 L 85.0,296.0 L 89.0,296.0 L 89.0,297.0 L 92.0,297.0 L 92.0,298.0 L 96.0,298.0 L 96.0,301.0 L 97.0,301.0 L 97.0,302.0 L 98.0,302.0 L 98.0,307.0 L 99.0,307.0 L 99.0,309.0 L 98.0,309.0 L 98.0,310.0 L 100.0,310.0 L 100.0,314.0 L 101.0,314.0 L 101.0,315.0 L 103.0,315.0 L 103.0,313.0 L 102.0,313.0 L 102.0,312.0 L 103.0,312.0 L 103.0,311.0 L 104.0,311.0 L 104.0,309.0 L 105.0,309.0 L 106.0,309.0 L 106.0,306.0 L 107.0,306.0 L 107.0,304.0 L 109.0,304.0 L 109.0,305.0 L 110.0,305.0 L 110.0,302.0 L 111.0,302.0 L 111.0,303.0 L 112.0,303.0 L 113.0,303.0 L 113.0,301.0 L 114.0,301.0 L 114.0,300.0 L 115.0,300.0 L 115.0,298.0 L 116.0,298.0 L 116.0,294.0 L 117.0,294.0 L 117.0,292.0 L 116.0,292.0 L 116.0,291.0 L 117.0,291.0 L 117.0,290.0 L 119.0,290.0 L 119.0,293.0 L 121.0,293.0 L 121.0,294.0 L 122.0,294.0 L 122.0,293.0 L 123.0,293.0 L 123.0,291.0 L 124.0,291.0 L 124.0,290.0 L 123.0,290.0 L 123.0,289.0 L 121.0,289.0 L 121.0,288.0 L 122.0,288.0 L 122.0,286.0 L 119.0,286.0 L 119.0,285.0 L 117.0,285.0 L 117.0,287.0 L 116.0,287.0 L 116.0,289.0 L 115.0,289.0 L 115.0,291.0 L 114.0,291.0 L 114.0,292.0 L 113.0,292.0 L 113.0,293.0 L 112.0,293.0 L 112.0,292.0 L 113.0,292.0 L 113.0,291.0 L 112.0,291.0 L 112.0,289.0 L 113.0,289.0 L 113.0,288.0 L 112.0,288.0 L 112.0,286.0 L 113.0,286.0 L 113.0,283.0 L 112.0,283.0 L 112.0,285.0 L 111.0,285.0 L 111.0,288.0 L 110.0,288.0 L 110.0,289.0 L 109.0,289.0 L 109.0,284.0 L 107.0,284.0 L 107.0,288.0 L 106.0,288.0 L 106.0,287.0 L 105.0,287.0 L 105.0,290.0 L 104.0,290.0 L 104.0,296.0 L 103.0,296.0 L 103.0,295.0 L 101.0,295.0 L 101.0,294.0 L 102.0,294.0 L 102.0,292.0 L 103.0,292.0 L 103.0,290.0 L 102.0,290.0 L 102.0,288.0 L 103.0,288.0 L 103.0,287.0 L 102.0,287.0 L 102.0,286.0 L 101.0,286.0 L 101.0,285.0 L 102.0,285.0 L 102.0,284.0 L 100.0,284.0 L 100.0,282.0 L 99.0,282.0 L 99.0,285.0 L 100.0,285.0 L 100.0,286.0 L 99.0,286.0 L 98.0,286.0 L 98.0,288.0 L 97.0,288.0 L 97.0,287.0 L 95.0,287.0 L 95.0,288.0 L 96.0,288.0 L 96.0,290.0 L 95.0,290.0 L 95.0,289.0 L 94.0,289.0 L 94.0,287.0 L 93.0,287.0 L 93.0,289.0 L 92.0,289.0 L 92.0,287.0 L 91.0,287.0 L 91.0,288.0 L 89.0,288.0 L 89.0,286.0 L 90.0,286.0 L 90.0,285.0 L 91.0,285.0 L 91.0,286.0 L 92.0,286.0 L 92.0,284.0 L 95.0,284.0 L 96.0,284.0 L 96.0,281.0 L 95.0,281.0 L 95.0,282.0 L 94.0,282.0 L 94.0,281.0 L 93.0,281.0 L 93.0,283.0 L 92.0,283.0 L 90.0,283.0 L 90.0,282.0 L 91.0,282.0 L 92.0,282.0 L 92.0,280.0 L 91.0,280.0 L 91.0,279.0 L 90.0,279.0 L 90.0,277.0 L 91.0,277.0 L 91.0,276.0 L 87.0,276.0 L 87.0,278.0 L 86.0,278.0 L 86.0,281.0 L 87.0,281.0 L 87.0,284.0 L 86.0,284.0 L 85.0,284.0 L 85.0,283.0 L 81.0,283.0 L 81.0,284.0 L 80.0,284.0 L 80.0,285.0 L 79.0,285.0 L 79.0,283.0 L 80.0,283.0 L 80.0,282.0 L 79.0,282.0 L 79.0,280.0 L 80.0,280.0 L 80.0,278.0 L 78.0,278.0 L 78.0,277.0 L 79.0,277.0 L 80.0,277.0 L 80.0,276.0 L 79.0,276.0 L 79.0,273.0 L 80.0,273.0 L 80.0,270.0 L 81.0,270.0 L 81.0,268.0 L 80.0,268.0 L 80.0,266.0 L 81.0,266.0 L 81.0,267.0 L 82.0,267.0 L 82.0,265.0 L 83.0,265.0 L 83.0,264.0 L 84.0,264.0 L 84.0,265.0 L 85.0,265.0 L 85.0,263.0 L 86.0,263.0 L 86.0,262.0 L 87.0,262.0 L 87.0,260.0 L 85.0,260.0 L 85.0,261.0 L 84.0,261.0 L 84.0,260.0 L 83.0,260.0 L 83.0,262.0 L 82.0,262.0 L 82.0,263.0 L 81.0,263.0 L 81.0,262.0 L 79.0,262.0 L 79.0,259.0 L 80.0,259.0 L 80.0,257.0 L 81.0,257.0 L 81.0,255.0 L 80.0,255.0 L 80.0,253.0 L 81.0,253.0 L 81.0,252.0 L 80.0,252.0 L 80.0,251.0 L 78.0,251.0 L 78.0,250.0 L 76.0,250.0 L 76.0,249.0 L 77.0,249.0 L 77.0,247.0 L 78.0,247.0 L 78.0,246.0 L 76.0,246.0 L 76.0,245.0 L 74.0,245.0 L 74.0,244.0 L 72.0,244.0 L 72.0,242.0 L 73.0,242.0 L 73.0,240.0 L 72.0,240.0 L 72.0,239.0 L 70.0,239.0 L 70.0,238.0 L 69.0,238.0 L 69.0,237.0 L 70.0,237.0 L 71.0,237.0 L 71.0,236.0 L 70.0,236.0 L 70.0,234.0 L 69.0,234.0 L 69.0,231.0 L 70.0,231.0 L 70.0,230.0 L 69.0,230.0 L 69.0,229.0 L 67.0,229.0 L 67.0,228.0 L 66.0,228.0 L 66.0,227.0 L 67.0,227.0 L 67.0,225.0 L 68.0,225.0 L 68.0,223.0 L 69.0,223.0 L 69.0,222.0 L 70.0,222.0 L 70.0,221.0 L 71.0,221.0 L 71.0,219.0 L 72.0,219.0 L 72.0,218.0 L 71.0,218.0 L 71.0,217.0 L 69.0,217.0 L 69.0,216.0 L 68.0,216.0 L 68.0,215.0 L 66.0,215.0 L 66.0,214.0 L 68.0,214.0 L 68.0,215.0 L 69.0,215.0 L 70.0,215.0 L 70.0,212.0 L 69.0,212.0 L 69.0,213.0 L 68.0,213.0 L 68.0,212.0 L 69.0,212.0 L 69.0,211.0 L 67.0,211.0 L 67.0,210.0 L 66.0,210.0 L 66.0,209.0 L 65.0,209.0 L 65.0,208.0 L 66.0,208.0 L 67.0,208.0 L 67.0,205.0 L 66.0,205.0 L 66.0,206.0 L 65.0,206.0 L 64.0,206.0 L 64.0,208.0 L 63.0,208.0 L 63.0,206.0 L 64.0,206.0 L 64.0,203.0 L 63.0,203.0 L 63.0,202.0 L 61.0,202.0 L 61.0,201.0 L 60.0,201.0 L 60.0,200.0 L 57.0,200.0 L 57.0,203.0 L 56.0,203.0 L 56.0,202.0 L 55.0,202.0 L 55.0,201.0 L 56.0,201.0 L 56.0,200.0 L 57.0,200.0 L 57.0,198.0 L 55.0,198.0 z M 56.0,211.0 L 56.0,212.0 L 57.0,212.0 L 57.0,211.0 L 56.0,211.0 z M 76.0,261.0 L 77.0,261.0 L 78.0,261.0 L 78.0,259.0 L 79.0,259.0 L 79.0,258.0 L 78.0,258.0 L 78.0,259.0 L 77.0,259.0 L 77.0,260.0 L 76.0,260.0 L 76.0,261.0 L 75.0,261.0 L 75.0,262.0 L 76.0,262.0 L 76.0,261.0 z M 86.0,286.0 L 86.0,287.0 L 87.0,287.0 L 87.0,286.0 L 86.0,286.0 z M 101.0,296.0 L 101.0,297.0 L 102.0,297.0 L 102.0,296.0 L 101.0,296.0 z M 60.0,210.0 L 61.0,210.0 L 61.0,213.0 L 60.0,213.0 L 60.0,214.0 L 58.0,214.0 L 58.0,213.0 L 59.0,213.0 L 59.0,211.0 L 60.0,211.0 L 60.0,210.0 z M 75.0,293.0 L 76.0,293.0 L 76.0,294.0 L 75.0,294.0 L 75.0,293.0 z M 33.0,217.0 L 33.0,218.0 L 34.0,218.0 L 34.0,217.0 L 33.0,217.0 z M 25.0,246.0 L 25.0,247.0 L 26.0,247.0 L 26.0,246.0 L 25.0,246.0 z M 23.0,245.0 L 24.0,245.0 L 24.0,246.0 L 23.0,246.0 L 23.0,245.0 z M 24.0,248.0 L 25.0,248.0 L 25.0,249.0 L 24.0,249.0 L 24.0,248.0 z M 33.0,224.0 L 33.0,226.0 L 34.0,226.0 L 34.0,224.0 L 35.0,224.0 L 35.0,223.0 L 34.0,223.0 L 34.0,224.0 L 33.0,224.0 z M 59.0,208.0 L 60.0,208.0 L 60.0,209.0 L 59.0,209.0 L 59.0,208.0 z M 61.0,205.0 L 61.0,206.0 L 62.0,206.0 L 62.0,205.0 L 61.0,205.0 z M 88.0,278.0 L 88.0,279.0 L 89.0,279.0 L 89.0,278.0 L 88.0,278.0 z M 78.0,264.0 L 78.0,265.0 L 79.0,265.0 L 79.0,264.0 L 78.0,264.0 z M 53.0,204.0 L 53.0,205.0 L 54.0,205.0 L 54.0,204.0 L 53.0,204.0 z\" /><path fill-rule=\"evenodd\" fill=\"#ff3333\" stroke=\"#555555\" stroke-width=\"3.7871999999999995\" opacity=\"0.6\" d=\"M 165.0,304.0 L 165.0,305.0 L 164.0,305.0 L 164.0,309.0 L 163.0,309.0 L 163.0,310.0 L 164.0,310.0 L 164.0,312.0 L 165.0,312.0 L 165.0,313.0 L 166.0,313.0 L 166.0,311.0 L 167.0,311.0 L 168.0,311.0 L 168.0,305.0 L 167.0,305.0 L 167.0,304.0 L 165.0,304.0 z\" /><path fill-rule=\"evenodd\" fill=\"#ff3333\" stroke=\"#555555\" stroke-width=\"3.7871999999999995\" opacity=\"0.6\" d=\"M 13.0,299.0 L 13.0,301.0 L 12.0,301.0 L 12.0,308.0 L 11.0,308.0 L 11.0,309.0 L 12.0,309.0 L 12.0,311.0 L 13.0,311.0 L 13.0,312.0 L 12.0,312.0 L 12.0,313.0 L 13.0,313.0 L 13.0,314.0 L 18.0,314.0 L 18.0,318.0 L 24.0,318.0 L 24.0,319.0 L 26.0,319.0 L 26.0,318.0 L 27.0,318.0 L 27.0,316.0 L 26.0,316.0 L 26.0,315.0 L 25.0,315.0 L 25.0,314.0 L 24.0,314.0 L 24.0,313.0 L 25.0,313.0 L 25.0,312.0 L 24.0,312.0 L 24.0,311.0 L 22.0,311.0 L 22.0,308.0 L 20.0,308.0 L 20.0,309.0 L 19.0,309.0 L 19.0,310.0 L 16.0,310.0 L 16.0,309.0 L 17.0,309.0 L 17.0,307.0 L 16.0,307.0 L 16.0,306.0 L 14.0,306.0 L 14.0,305.0 L 15.0,305.0 L 15.0,302.0 L 14.0,302.0 L 14.0,301.0 L 15.0,301.0 L 15.0,300.0 L 14.0,300.0 L 14.0,299.0 L 13.0,299.0 z M 20.0,309.0 L 20.0,310.0 L 21.0,310.0 L 21.0,309.0 L 20.0,309.0 z\" /><path fill-rule=\"evenodd\" fill=\"#ff3333\" stroke=\"#555555\" stroke-width=\"3.7871999999999995\" opacity=\"0.6\" d=\"M 24.0,320.0 L 24.0,321.0 L 25.0,321.0 L 25.0,320.0 L 24.0,320.0 z\" /><path fill-rule=\"evenodd\" fill=\"#ff3333\" stroke=\"#555555\" stroke-width=\"3.7871999999999995\" opacity=\"0.6\" d=\"M 89.0,335.0 L 89.0,337.0 L 90.0,337.0 L 90.0,338.0 L 92.0,338.0 L 92.0,337.0 L 91.0,337.0 L 91.0,335.0 L 89.0,335.0 z\" /><path fill-rule=\"evenodd\" fill=\"#ff3333\" stroke=\"#555555\" stroke-width=\"3.7871999999999995\" opacity=\"0.6\" d=\"M 147.0,336.0 L 147.0,337.0 L 148.0,337.0 L 148.0,336.0 L 147.0,336.0 z\" /><path fill-rule=\"evenodd\" fill=\"#ff3333\" stroke=\"#555555\" stroke-width=\"3.7871999999999995\" opacity=\"0.6\" d=\"M 164.0,315.0 L 164.0,316.0 L 163.0,316.0 L 163.0,317.0 L 162.0,317.0 L 162.0,318.0 L 161.0,318.0 L 161.0,319.0 L 160.0,319.0 L 160.0,323.0 L 159.0,323.0 L 159.0,329.0 L 158.0,329.0 L 158.0,330.0 L 157.0,330.0 L 157.0,332.0 L 156.0,332.0 L 156.0,333.0 L 155.0,333.0 L 155.0,335.0 L 154.0,335.0 L 153.0,335.0 L 153.0,336.0 L 152.0,336.0 L 151.0,336.0 L 151.0,337.0 L 150.0,337.0 L 150.0,341.0 L 153.0,341.0 L 153.0,339.0 L 158.0,339.0 L 158.0,340.0 L 162.0,340.0 L 163.0,340.0 L 163.0,336.0 L 164.0,336.0 L 164.0,335.0 L 163.0,335.0 L 163.0,332.0 L 164.0,332.0 L 164.0,329.0 L 165.0,329.0 L 165.0,328.0 L 166.0,328.0 L 166.0,327.0 L 167.0,327.0 L 167.0,326.0 L 168.0,326.0 L 168.0,321.0 L 167.0,321.0 L 167.0,319.0 L 166.0,319.0 L 166.0,316.0 L 165.0,316.0 L 165.0,315.0 L 164.0,315.0 z M 157.0,335.0 L 158.0,335.0 L 158.0,336.0 L 157.0,336.0 L 157.0,335.0 z\" /><path fill-rule=\"evenodd\" fill=\"#ff3333\" stroke=\"#555555\" stroke-width=\"3.7871999999999995\" opacity=\"0.6\" d=\"M 86.0,338.0 L 86.0,340.0 L 87.0,340.0 L 87.0,338.0 L 86.0,338.0 z\" /><path fill-rule=\"evenodd\" fill=\"#ff3333\" stroke=\"#555555\" stroke-width=\"3.7871999999999995\" opacity=\"0.6\" d=\"M 164.0,340.0 L 164.0,341.0 L 163.0,341.0 L 163.0,344.0 L 162.0,344.0 L 162.0,346.0 L 163.0,346.0 L 163.0,347.0 L 165.0,347.0 L 166.0,347.0 L 166.0,343.0 L 165.0,343.0 L 165.0,340.0 L 164.0,340.0 z\" /><path fill-rule=\"evenodd\" fill=\"#ff3333\" stroke=\"#555555\" stroke-width=\"3.7871999999999995\" opacity=\"0.6\" d=\"M 93.0,343.0 L 93.0,345.0 L 94.0,345.0 L 94.0,348.0 L 95.0,348.0 L 95.0,345.0 L 96.0,345.0 L 96.0,348.0 L 97.0,348.0 L 97.0,350.0 L 102.0,350.0 L 102.0,347.0 L 100.0,347.0 L 100.0,348.0 L 98.0,348.0 L 98.0,345.0 L 97.0,345.0 L 97.0,343.0 L 93.0,343.0 z\" /><path fill-rule=\"evenodd\" fill=\"#ff3333\" stroke=\"#555555\" stroke-width=\"3.7871999999999995\" opacity=\"0.6\" d=\"M 154.0,348.0 L 154.0,352.0 L 153.0,352.0 L 153.0,354.0 L 154.0,354.0 L 154.0,355.0 L 155.0,355.0 L 155.0,356.0 L 157.0,356.0 L 157.0,357.0 L 158.0,357.0 L 158.0,354.0 L 159.0,354.0 L 159.0,350.0 L 158.0,350.0 L 158.0,348.0 L 154.0,348.0 z\" /><path fill-rule=\"evenodd\" fill=\"#ff3333\" stroke=\"#555555\" stroke-width=\"3.7871999999999995\" opacity=\"0.6\" d=\"M 163.0,352.0 L 163.0,353.0 L 164.0,353.0 L 164.0,352.0 L 163.0,352.0 z\" /><path fill-rule=\"evenodd\" fill=\"#ff3333\" stroke=\"#555555\" stroke-width=\"3.7871999999999995\" opacity=\"0.6\" d=\"M 112.0,353.0 L 112.0,354.0 L 113.0,354.0 L 113.0,353.0 L 112.0,353.0 z\" /><path fill-rule=\"evenodd\" fill=\"#ff3333\" stroke=\"#555555\" stroke-width=\"3.7871999999999995\" opacity=\"0.6\" d=\"M 161.0,356.0 L 161.0,357.0 L 162.0,357.0 L 162.0,356.0 L 161.0,356.0 z\" /><path fill-rule=\"evenodd\" fill=\"#ff3333\" stroke=\"#555555\" stroke-width=\"3.7871999999999995\" opacity=\"0.6\" d=\"M 110.0,356.0 L 110.0,358.0 L 111.0,358.0 L 111.0,356.0 L 110.0,356.0 z\" /><path fill-rule=\"evenodd\" fill=\"#ff3333\" stroke=\"#555555\" stroke-width=\"3.7871999999999995\" opacity=\"0.6\" d=\"M 148.0,359.0 L 148.0,360.0 L 147.0,360.0 L 147.0,363.0 L 148.0,363.0 L 148.0,361.0 L 149.0,361.0 L 150.0,361.0 L 150.0,359.0 L 148.0,359.0 z\" /><path fill-rule=\"evenodd\" fill=\"#ff3333\" stroke=\"#555555\" stroke-width=\"3.7871999999999995\" opacity=\"0.6\" d=\"M 151.0,360.0 L 151.0,362.0 L 152.0,362.0 L 152.0,361.0 L 153.0,361.0 L 153.0,360.0 L 151.0,360.0 z\" /><path fill-rule=\"evenodd\" fill=\"#ff3333\" stroke=\"#555555\" stroke-width=\"3.7871999999999995\" opacity=\"0.6\" d=\"M 149.0,362.0 L 149.0,363.0 L 150.0,363.0 L 150.0,362.0 L 149.0,362.0 z\" /><path fill-rule=\"evenodd\" fill=\"#ff3333\" stroke=\"#555555\" stroke-width=\"3.7871999999999995\" opacity=\"0.6\" d=\"M 150.0,363.0 L 150.0,364.0 L 151.0,364.0 L 151.0,363.0 L 150.0,363.0 z\" /><path fill-rule=\"evenodd\" fill=\"#ff3333\" stroke=\"#555555\" stroke-width=\"3.7871999999999995\" opacity=\"0.6\" d=\"M 102.0,364.0 L 102.0,365.0 L 103.0,365.0 L 103.0,364.0 L 102.0,364.0 z\" /><path fill-rule=\"evenodd\" fill=\"#ff3333\" stroke=\"#555555\" stroke-width=\"3.7871999999999995\" opacity=\"0.6\" d=\"M 151.0,364.0 L 151.0,365.0 L 152.0,365.0 L 152.0,364.0 L 151.0,364.0 z\" /><path fill-rule=\"evenodd\" fill=\"#ff3333\" stroke=\"#555555\" stroke-width=\"3.7871999999999995\" opacity=\"0.6\" d=\"M 104.0,364.0 L 104.0,367.0 L 106.0,367.0 L 106.0,366.0 L 108.0,366.0 L 109.0,366.0 L 109.0,364.0 L 104.0,364.0 z\" /><path fill-rule=\"evenodd\" fill=\"#ff3333\" stroke=\"#555555\" stroke-width=\"3.7871999999999995\" opacity=\"0.6\" d=\"M 149.0,370.0 L 149.0,371.0 L 150.0,371.0 L 150.0,370.0 L 149.0,370.0 z\" /><path fill-rule=\"evenodd\" fill=\"#ff3333\" stroke=\"#555555\" stroke-width=\"3.7871999999999995\" opacity=\"0.6\" d=\"M 152.0,371.0 L 152.0,372.0 L 153.0,372.0 L 153.0,371.0 L 152.0,371.0 z\" /><path fill-rule=\"evenodd\" fill=\"#ff3333\" stroke=\"#555555\" stroke-width=\"3.7871999999999995\" opacity=\"0.6\" d=\"M 144.0,373.0 L 144.0,374.0 L 145.0,374.0 L 145.0,373.0 L 144.0,373.0 z\" /><path fill-rule=\"evenodd\" fill=\"#ff3333\" stroke=\"#555555\" stroke-width=\"3.7871999999999995\" opacity=\"0.6\" d=\"M 142.0,374.0 L 142.0,376.0 L 143.0,376.0 L 143.0,375.0 L 144.0,375.0 L 144.0,374.0 L 142.0,374.0 z\" /><path fill-rule=\"evenodd\" fill=\"#ff3333\" stroke=\"#555555\" stroke-width=\"3.7871999999999995\" opacity=\"0.6\" d=\"M 166.0,376.0 L 166.0,378.0 L 167.0,378.0 L 167.0,376.0 L 166.0,376.0 z\" /><path fill-rule=\"evenodd\" fill=\"#ff3333\" stroke=\"#555555\" stroke-width=\"3.7871999999999995\" opacity=\"0.6\" d=\"M 43.0,373.0 L 43.0,377.0 L 44.0,377.0 L 44.0,380.0 L 45.0,380.0 L 45.0,383.0 L 47.0,383.0 L 47.0,380.0 L 46.0,380.0 L 46.0,377.0 L 45.0,377.0 L 45.0,376.0 L 44.0,376.0 L 44.0,373.0 L 43.0,373.0 z\" /><path fill-rule=\"evenodd\" fill=\"#ff3333\" stroke=\"#555555\" stroke-width=\"3.7871999999999995\" opacity=\"0.6\" d=\"M 130.0,382.0 L 130.0,383.0 L 131.0,383.0 L 131.0,382.0 L 130.0,382.0 z\" /><path fill-rule=\"evenodd\" fill=\"#ff3333\" stroke=\"#555555\" stroke-width=\"3.7871999999999995\" opacity=\"0.6\" d=\"M 302.0,381.0 L 302.0,382.0 L 301.0,382.0 L 301.0,383.0 L 300.0,383.0 L 299.0,383.0 L 299.0,384.0 L 298.0,384.0 L 298.0,385.0 L 297.0,385.0 L 295.0,385.0 L 295.0,387.0 L 298.0,387.0 L 298.0,386.0 L 300.0,386.0 L 300.0,387.0 L 302.0,387.0 L 302.0,388.0 L 303.0,388.0 L 303.0,389.0 L 304.0,389.0 L 304.0,388.0 L 305.0,388.0 L 305.0,393.0 L 306.0,393.0 L 306.0,394.0 L 308.0,394.0 L 308.0,390.0 L 310.0,390.0 L 310.0,391.0 L 311.0,391.0 L 311.0,390.0 L 312.0,390.0 L 312.0,389.0 L 311.0,389.0 L 311.0,387.0 L 310.0,387.0 L 310.0,386.0 L 309.0,386.0 L 309.0,387.0 L 307.0,387.0 L 307.0,386.0 L 306.0,386.0 L 306.0,387.0 L 305.0,387.0 L 305.0,384.0 L 304.0,384.0 L 304.0,383.0 L 303.0,383.0 L 303.0,381.0 L 302.0,381.0 z M 306.0,388.0 L 306.0,389.0 L 307.0,389.0 L 307.0,388.0 L 306.0,388.0 z\" /><path fill-rule=\"evenodd\" fill=\"#ff3333\" stroke=\"#555555\" stroke-width=\"3.7871999999999995\" opacity=\"0.6\" d=\"M 312.0,390.0 L 312.0,391.0 L 313.0,391.0 L 313.0,392.0 L 314.0,392.0 L 314.0,390.0 L 312.0,390.0 z\" /><path fill-rule=\"evenodd\" fill=\"#ff3333\" stroke=\"#555555\" stroke-width=\"3.7871999999999995\" opacity=\"0.6\" d=\"M 309.0,391.0 L 309.0,394.0 L 310.0,394.0 L 310.0,391.0 L 309.0,391.0 z\" /><path fill-rule=\"evenodd\" fill=\"#ff3333\" stroke=\"#555555\" stroke-width=\"3.7871999999999995\" opacity=\"0.6\" d=\"M 311.0,393.0 L 311.0,394.0 L 312.0,394.0 L 312.0,393.0 L 311.0,393.0 z\" /><path fill-rule=\"evenodd\" fill=\"#ff3333\" stroke=\"#555555\" stroke-width=\"3.7871999999999995\" opacity=\"0.6\" d=\"M 305.0,395.0 L 305.0,396.0 L 306.0,396.0 L 306.0,395.0 L 305.0,395.0 z\" /><path fill-rule=\"evenodd\" fill=\"#ff3333\" stroke=\"#555555\" stroke-width=\"3.7871999999999995\" opacity=\"0.6\" d=\"M 312.0,398.0 L 312.0,399.0 L 311.0,399.0 L 311.0,400.0 L 310.0,400.0 L 310.0,402.0 L 309.0,402.0 L 309.0,403.0 L 310.0,403.0 L 310.0,404.0 L 311.0,404.0 L 311.0,403.0 L 312.0,403.0 L 312.0,402.0 L 313.0,402.0 L 314.0,402.0 L 314.0,399.0 L 313.0,399.0 L 313.0,398.0 L 312.0,398.0 z\" /><path fill-rule=\"evenodd\" fill=\"#ff3333\" stroke=\"#555555\" stroke-width=\"3.7871999999999995\" opacity=\"0.6\" d=\"M 315.0,403.0 L 315.0,404.0 L 316.0,404.0 L 316.0,403.0 L 315.0,403.0 z\" /><path fill-rule=\"evenodd\" fill=\"#ff3333\" stroke=\"#555555\" stroke-width=\"3.7871999999999995\" opacity=\"0.6\" d=\"M 318.0,404.0 L 318.0,405.0 L 317.0,405.0 L 317.0,407.0 L 318.0,407.0 L 318.0,406.0 L 319.0,406.0 L 319.0,404.0 L 318.0,404.0 z\" /><path fill-rule=\"evenodd\" fill=\"#ff3333\" stroke=\"#555555\" stroke-width=\"3.7871999999999995\" opacity=\"0.6\" d=\"M 315.0,406.0 L 315.0,407.0 L 316.0,407.0 L 316.0,406.0 L 315.0,406.0 z\" /><path fill-rule=\"evenodd\" fill=\"#ff3333\" stroke=\"#555555\" stroke-width=\"3.7871999999999995\" opacity=\"0.6\" d=\"M 294.0,410.0 L 294.0,411.0 L 295.0,411.0 L 295.0,410.0 L 294.0,410.0 z\" /><path fill-rule=\"evenodd\" fill=\"#ff3333\" stroke=\"#555555\" stroke-width=\"3.7871999999999995\" opacity=\"0.6\" d=\"M 302.0,422.0 L 302.0,423.0 L 303.0,423.0 L 303.0,422.0 L 302.0,422.0 z\" /><path fill-rule=\"evenodd\" fill=\"#ff3333\" stroke=\"#555555\" stroke-width=\"3.7871999999999995\" opacity=\"0.6\" d=\"M 147.0,442.0 L 147.0,443.0 L 148.0,443.0 L 148.0,442.0 L 147.0,442.0 z\" /><path fill-rule=\"evenodd\" fill=\"#ff3333\" stroke=\"#555555\" stroke-width=\"3.7871999999999995\" opacity=\"0.6\" d=\"M 151.0,445.0 L 151.0,446.0 L 152.0,446.0 L 152.0,445.0 L 151.0,445.0 z\" /><path fill-rule=\"evenodd\" fill=\"#ff3333\" stroke=\"#555555\" stroke-width=\"3.7871999999999995\" opacity=\"0.6\" d=\"M 154.0,445.0 L 154.0,446.0 L 155.0,446.0 L 155.0,445.0 L 154.0,445.0 z\" /><path fill-rule=\"evenodd\" fill=\"#ff3333\" stroke=\"#555555\" stroke-width=\"3.7871999999999995\" opacity=\"0.6\" d=\"M 223.0,446.0 L 223.0,448.0 L 224.0,448.0 L 224.0,446.0 L 223.0,446.0 z\" /><path fill-rule=\"evenodd\" fill=\"#ff3333\" stroke=\"#555555\" stroke-width=\"3.7871999999999995\" opacity=\"0.6\" d=\"M 225.0,446.0 L 225.0,449.0 L 226.0,449.0 L 226.0,451.0 L 227.0,451.0 L 227.0,450.0 L 230.0,450.0 L 231.0,450.0 L 231.0,449.0 L 230.0,449.0 L 230.0,447.0 L 229.0,447.0 L 229.0,449.0 L 228.0,449.0 L 227.0,449.0 L 227.0,448.0 L 228.0,448.0 L 228.0,447.0 L 229.0,447.0 L 229.0,446.0 L 225.0,446.0 z\" /><path fill-rule=\"evenodd\" fill=\"#ff3333\" stroke=\"#555555\" stroke-width=\"3.7871999999999995\" opacity=\"0.6\" d=\"M 203.0,449.0 L 203.0,450.0 L 204.0,450.0 L 204.0,449.0 L 203.0,449.0 z\" /><path fill-rule=\"evenodd\" fill=\"#ff3333\" stroke=\"#555555\" stroke-width=\"3.7871999999999995\" opacity=\"0.6\" d=\"M 231.0,451.0 L 231.0,452.0 L 232.0,452.0 L 232.0,451.0 L 231.0,451.0 z\" /><path fill-rule=\"evenodd\" fill=\"#ff3333\" stroke=\"#555555\" stroke-width=\"3.7871999999999995\" opacity=\"0.6\" d=\"M 122.0,452.0 L 122.0,453.0 L 123.0,453.0 L 123.0,452.0 L 122.0,452.0 z\" /><path fill-rule=\"evenodd\" fill=\"#ff3333\" stroke=\"#555555\" stroke-width=\"3.7871999999999995\" opacity=\"0.6\" d=\"M 121.0,453.0 L 121.0,454.0 L 122.0,454.0 L 122.0,453.0 L 121.0,453.0 z\" /><path fill-rule=\"evenodd\" fill=\"#ff3333\" stroke=\"#555555\" stroke-width=\"3.7871999999999995\" opacity=\"0.6\" d=\"M 215.0,453.0 L 215.0,454.0 L 216.0,454.0 L 216.0,453.0 L 215.0,453.0 z\" /><path fill-rule=\"evenodd\" fill=\"#ff3333\" stroke=\"#555555\" stroke-width=\"3.7871999999999995\" opacity=\"0.6\" d=\"M 221.0,454.0 L 221.0,456.0 L 223.0,456.0 L 223.0,455.0 L 222.0,455.0 L 222.0,454.0 L 221.0,454.0 z\" /><path fill-rule=\"evenodd\" fill=\"#ff3333\" stroke=\"#555555\" stroke-width=\"3.7871999999999995\" opacity=\"0.6\" d=\"M 171.0,460.0 L 171.0,461.0 L 172.0,461.0 L 172.0,460.0 L 171.0,460.0 z\" /><path fill-rule=\"evenodd\" fill=\"#ff3333\" stroke=\"#555555\" stroke-width=\"3.7871999999999995\" opacity=\"0.6\" d=\"M 177.0,460.0 L 177.0,461.0 L 178.0,461.0 L 178.0,460.0 L 177.0,460.0 z\" /><path fill-rule=\"evenodd\" fill=\"#ff3333\" stroke=\"#555555\" stroke-width=\"3.7871999999999995\" opacity=\"0.6\" d=\"M 176.0,462.0 L 176.0,463.0 L 178.0,463.0 L 178.0,462.0 L 176.0,462.0 z\" /><path fill-rule=\"evenodd\" fill=\"#ff3333\" stroke=\"#555555\" stroke-width=\"3.7871999999999995\" opacity=\"0.6\" d=\"M 203.0,464.0 L 203.0,465.0 L 204.0,465.0 L 204.0,464.0 L 203.0,464.0 z\" /><path fill-rule=\"evenodd\" fill=\"#ff3333\" stroke=\"#555555\" stroke-width=\"3.7871999999999995\" opacity=\"0.6\" d=\"M 204.0,465.0 L 204.0,466.0 L 205.0,466.0 L 205.0,465.0 L 204.0,465.0 z\" /><path fill-rule=\"evenodd\" fill=\"#ff3333\" stroke=\"#555555\" stroke-width=\"3.7871999999999995\" opacity=\"0.6\" d=\"M 202.0,467.0 L 202.0,468.0 L 205.0,468.0 L 205.0,467.0 L 202.0,467.0 z\" /><path fill-rule=\"evenodd\" fill=\"#ff3333\" stroke=\"#555555\" stroke-width=\"3.7871999999999995\" opacity=\"0.6\" d=\"M 120.0,468.0 L 120.0,469.0 L 122.0,469.0 L 122.0,468.0 L 120.0,468.0 z\" /><path fill-rule=\"evenodd\" fill=\"#ff3333\" stroke=\"#555555\" stroke-width=\"3.7871999999999995\" opacity=\"0.6\" d=\"M 124.0,468.0 L 124.0,469.0 L 125.0,469.0 L 125.0,468.0 L 124.0,468.0 z\" /><path fill-rule=\"evenodd\" fill=\"#ff3333\" stroke=\"#555555\" stroke-width=\"3.7871999999999995\" opacity=\"0.6\" d=\"M 122.0,469.0 L 122.0,470.0 L 123.0,470.0 L 123.0,469.0 L 122.0,469.0 z\" /><path fill-rule=\"evenodd\" fill=\"#ff3333\" stroke=\"#555555\" stroke-width=\"3.7871999999999995\" opacity=\"0.6\" d=\"M 181.0,469.0 L 181.0,470.0 L 183.0,470.0 L 183.0,469.0 L 181.0,469.0 z\" /><path fill-rule=\"evenodd\" fill=\"#ff3333\" stroke=\"#555555\" stroke-width=\"3.7871999999999995\" opacity=\"0.6\" d=\"M 211.0,470.0 L 211.0,471.0 L 212.0,471.0 L 212.0,470.0 L 211.0,470.0 z\" /><path fill-rule=\"evenodd\" fill=\"#ff3333\" stroke=\"#555555\" stroke-width=\"3.7871999999999995\" opacity=\"0.6\" d=\"M 213.0,470.0 L 213.0,471.0 L 216.0,471.0 L 216.0,470.0 L 213.0,470.0 z\" /><path fill-rule=\"evenodd\" fill=\"#ff3333\" stroke=\"#555555\" stroke-width=\"3.7871999999999995\" opacity=\"0.6\" d=\"M 245.0,470.0 L 245.0,471.0 L 247.0,471.0 L 247.0,470.0 L 245.0,470.0 z\" /><path fill-rule=\"evenodd\" fill=\"#ff3333\" stroke=\"#555555\" stroke-width=\"3.7871999999999995\" opacity=\"0.6\" d=\"M 117.0,467.0 L 117.0,468.0 L 116.0,468.0 L 116.0,469.0 L 115.0,469.0 L 115.0,470.0 L 114.0,470.0 L 114.0,471.0 L 113.0,471.0 L 113.0,472.0 L 115.0,472.0 L 115.0,473.0 L 117.0,473.0 L 117.0,471.0 L 118.0,471.0 L 118.0,470.0 L 119.0,470.0 L 119.0,468.0 L 118.0,468.0 L 118.0,467.0 L 117.0,467.0 z\" /><path fill-rule=\"evenodd\" fill=\"#ff3333\" stroke=\"#555555\" stroke-width=\"3.7871999999999995\" opacity=\"0.6\" d=\"M 125.0,471.0 L 125.0,472.0 L 126.0,472.0 L 126.0,471.0 L 125.0,471.0 z\" /><path fill-rule=\"evenodd\" fill=\"#ff3333\" stroke=\"#555555\" stroke-width=\"3.7871999999999995\" opacity=\"0.6\" d=\"M 112.0,472.0 L 112.0,475.0 L 114.0,475.0 L 114.0,474.0 L 113.0,474.0 L 113.0,472.0 L 112.0,472.0 z\" /><path fill-rule=\"evenodd\" fill=\"#ff3333\" stroke=\"#555555\" stroke-width=\"3.7871999999999995\" opacity=\"0.6\" d=\"M 121.0,472.0 L 121.0,473.0 L 122.0,473.0 L 122.0,472.0 L 121.0,472.0 z\" /><path fill-rule=\"evenodd\" fill=\"#ff3333\" stroke=\"#555555\" stroke-width=\"3.7871999999999995\" opacity=\"0.6\" d=\"M 176.0,472.0 L 176.0,473.0 L 177.0,473.0 L 177.0,472.0 L 176.0,472.0 z\" /><path fill-rule=\"evenodd\" fill=\"#ff3333\" stroke=\"#555555\" stroke-width=\"3.7871999999999995\" opacity=\"0.6\" d=\"M 180.0,471.0 L 180.0,472.0 L 179.0,472.0 L 179.0,473.0 L 181.0,473.0 L 181.0,474.0 L 184.0,474.0 L 184.0,475.0 L 186.0,475.0 L 187.0,475.0 L 187.0,474.0 L 185.0,474.0 L 185.0,473.0 L 184.0,473.0 L 184.0,472.0 L 182.0,472.0 L 182.0,471.0 L 180.0,471.0 z\" /><path fill-rule=\"evenodd\" fill=\"#ff3333\" stroke=\"#555555\" stroke-width=\"3.7871999999999995\" opacity=\"0.6\" d=\"M 124.0,473.0 L 124.0,474.0 L 126.0,474.0 L 126.0,473.0 L 124.0,473.0 z\" /><path fill-rule=\"evenodd\" fill=\"#ff3333\" stroke=\"#555555\" stroke-width=\"3.7871999999999995\" opacity=\"0.6\" d=\"M 178.0,473.0 L 178.0,474.0 L 179.0,474.0 L 179.0,473.0 L 178.0,473.0 z\" /><path fill-rule=\"evenodd\" fill=\"#ff3333\" stroke=\"#555555\" stroke-width=\"3.7871999999999995\" opacity=\"0.6\" d=\"M 119.0,473.0 L 119.0,474.0 L 118.0,474.0 L 118.0,475.0 L 119.0,475.0 L 120.0,475.0 L 120.0,473.0 L 119.0,473.0 z\" /><path fill-rule=\"evenodd\" fill=\"#ff3333\" stroke=\"#555555\" stroke-width=\"3.7871999999999995\" opacity=\"0.6\" d=\"M 114.0,475.0 L 114.0,476.0 L 115.0,476.0 L 115.0,475.0 L 114.0,475.0 z\" /><path fill-rule=\"evenodd\" fill=\"#ff3333\" stroke=\"#555555\" stroke-width=\"3.7871999999999995\" opacity=\"0.6\" d=\"M 121.0,475.0 L 121.0,476.0 L 124.0,476.0 L 124.0,475.0 L 121.0,475.0 z\" /><path fill-rule=\"evenodd\" fill=\"#ff3333\" stroke=\"#555555\" stroke-width=\"3.7871999999999995\" opacity=\"0.6\" d=\"M 187.0,475.0 L 187.0,476.0 L 189.0,476.0 L 189.0,475.0 L 187.0,475.0 z\" /><path fill-rule=\"evenodd\" fill=\"#ff3333\" stroke=\"#555555\" stroke-width=\"3.7871999999999995\" opacity=\"0.6\" d=\"M 113.0,476.0 L 113.0,477.0 L 114.0,477.0 L 114.0,476.0 L 113.0,476.0 z\" /><path fill-rule=\"evenodd\" fill=\"#ff3333\" stroke=\"#555555\" stroke-width=\"3.7871999999999995\" opacity=\"0.6\" d=\"M 112.0,477.0 L 112.0,478.0 L 113.0,478.0 L 113.0,477.0 L 112.0,477.0 z\" /><path fill-rule=\"evenodd\" fill=\"#ff3333\" stroke=\"#555555\" stroke-width=\"3.7871999999999995\" opacity=\"0.6\" d=\"M 122.0,477.0 L 122.0,478.0 L 123.0,478.0 L 123.0,477.0 L 122.0,477.0 z\" /><path fill-rule=\"evenodd\" fill=\"#ff3333\" stroke=\"#555555\" stroke-width=\"3.7871999999999995\" opacity=\"0.6\" d=\"M 118.0,478.0 L 118.0,479.0 L 119.0,479.0 L 119.0,478.0 L 118.0,478.0 z\" /><path fill-rule=\"evenodd\" fill=\"#ff3333\" stroke=\"#555555\" stroke-width=\"3.7871999999999995\" opacity=\"0.6\" d=\"M 113.0,479.0 L 113.0,480.0 L 114.0,480.0 L 114.0,479.0 L 113.0,479.0 z\" /><path fill-rule=\"evenodd\" fill=\"#ff3333\" stroke=\"#555555\" stroke-width=\"3.7871999999999995\" opacity=\"0.6\" d=\"M 137.0,480.0 L 137.0,481.0 L 138.0,481.0 L 138.0,480.0 L 137.0,480.0 z\" /><path fill-rule=\"evenodd\" fill=\"#ff3333\" stroke=\"#555555\" stroke-width=\"3.7871999999999995\" opacity=\"0.6\" d=\"M 111.0,481.0 L 111.0,482.0 L 112.0,482.0 L 112.0,481.0 L 111.0,481.0 z\" /><path fill-rule=\"evenodd\" fill=\"#ff3333\" stroke=\"#555555\" stroke-width=\"3.7871999999999995\" opacity=\"0.6\" d=\"M 135.0,483.0 L 135.0,484.0 L 136.0,484.0 L 136.0,483.0 L 135.0,483.0 z\" /><path fill-rule=\"evenodd\" fill=\"#ff3333\" stroke=\"#555555\" stroke-width=\"3.7871999999999995\" opacity=\"0.6\" d=\"M 123.0,484.0 L 123.0,485.0 L 124.0,485.0 L 124.0,484.0 L 123.0,484.0 z\" /><path fill-rule=\"evenodd\" fill=\"#ff3333\" stroke=\"#555555\" stroke-width=\"3.7871999999999995\" opacity=\"0.6\" d=\"M 126.0,474.0 L 126.0,476.0 L 125.0,476.0 L 124.0,476.0 L 124.0,479.0 L 123.0,479.0 L 123.0,480.0 L 122.0,480.0 L 122.0,481.0 L 123.0,481.0 L 123.0,482.0 L 124.0,482.0 L 124.0,483.0 L 125.0,483.0 L 125.0,484.0 L 126.0,484.0 L 126.0,485.0 L 125.0,485.0 L 125.0,487.0 L 126.0,487.0 L 126.0,486.0 L 127.0,486.0 L 127.0,485.0 L 129.0,485.0 L 129.0,486.0 L 130.0,486.0 L 130.0,487.0 L 131.0,487.0 L 131.0,485.0 L 132.0,485.0 L 132.0,483.0 L 134.0,483.0 L 135.0,483.0 L 135.0,482.0 L 134.0,482.0 L 134.0,480.0 L 135.0,480.0 L 135.0,479.0 L 136.0,479.0 L 136.0,478.0 L 134.0,478.0 L 134.0,477.0 L 132.0,477.0 L 132.0,478.0 L 131.0,478.0 L 131.0,480.0 L 129.0,480.0 L 129.0,479.0 L 128.0,479.0 L 128.0,478.0 L 129.0,478.0 L 130.0,478.0 L 130.0,477.0 L 129.0,477.0 L 129.0,476.0 L 127.0,476.0 L 127.0,474.0 L 126.0,474.0 z M 125.0,481.0 L 126.0,481.0 L 126.0,482.0 L 125.0,482.0 L 125.0,481.0 z\" /><path fill-rule=\"evenodd\" fill=\"#ff3333\" stroke=\"#555555\" stroke-width=\"3.7871999999999995\" opacity=\"0.6\" d=\"M 133.0,485.0 L 133.0,486.0 L 134.0,486.0 L 134.0,485.0 L 133.0,485.0 z\" /><path fill-rule=\"evenodd\" fill=\"#ff3333\" stroke=\"#555555\" stroke-width=\"3.7871999999999995\" opacity=\"0.6\" d=\"M 127.0,486.0 L 127.0,487.0 L 128.0,487.0 L 128.0,486.0 L 127.0,486.0 z\" /><path fill-rule=\"evenodd\" fill=\"#ff3333\" stroke=\"#555555\" stroke-width=\"3.7871999999999995\" opacity=\"0.6\" d=\"M 225.0,492.0 L 225.0,493.0 L 226.0,493.0 L 226.0,492.0 L 225.0,492.0 z\" /><path fill-rule=\"evenodd\" fill=\"#ff3333\" stroke=\"#555555\" stroke-width=\"3.7871999999999995\" opacity=\"0.6\" d=\"M 237.0,470.0 L 237.0,471.0 L 236.0,471.0 L 235.0,471.0 L 235.0,473.0 L 237.0,473.0 L 237.0,475.0 L 236.0,475.0 L 233.0,475.0 L 233.0,476.0 L 232.0,476.0 L 232.0,477.0 L 231.0,477.0 L 230.0,477.0 L 230.0,478.0 L 229.0,478.0 L 229.0,477.0 L 228.0,477.0 L 228.0,478.0 L 227.0,478.0 L 227.0,477.0 L 225.0,477.0 L 225.0,479.0 L 227.0,479.0 L 227.0,480.0 L 226.0,480.0 L 222.0,480.0 L 222.0,483.0 L 224.0,483.0 L 224.0,484.0 L 223.0,484.0 L 221.0,484.0 L 221.0,485.0 L 220.0,485.0 L 219.0,485.0 L 219.0,486.0 L 218.0,486.0 L 218.0,488.0 L 217.0,488.0 L 215.0,488.0 L 215.0,489.0 L 214.0,489.0 L 213.0,489.0 L 213.0,491.0 L 216.0,491.0 L 216.0,490.0 L 217.0,490.0 L 217.0,492.0 L 218.0,492.0 L 218.0,494.0 L 217.0,494.0 L 217.0,493.0 L 215.0,493.0 L 215.0,494.0 L 216.0,494.0 L 216.0,495.0 L 220.0,495.0 L 220.0,494.0 L 221.0,494.0 L 221.0,495.0 L 223.0,495.0 L 223.0,496.0 L 225.0,496.0 L 225.0,495.0 L 224.0,495.0 L 224.0,494.0 L 225.0,494.0 L 225.0,493.0 L 224.0,493.0 L 224.0,492.0 L 223.0,492.0 L 223.0,491.0 L 224.0,491.0 L 224.0,492.0 L 225.0,492.0 L 225.0,491.0 L 226.0,491.0 L 226.0,492.0 L 228.0,492.0 L 228.0,491.0 L 229.0,491.0 L 229.0,493.0 L 228.0,493.0 L 228.0,494.0 L 231.0,494.0 L 231.0,496.0 L 233.0,496.0 L 233.0,497.0 L 234.0,497.0 L 234.0,498.0 L 236.0,498.0 L 236.0,497.0 L 238.0,497.0 L 239.0,497.0 L 239.0,494.0 L 237.0,494.0 L 237.0,491.0 L 241.0,491.0 L 242.0,491.0 L 242.0,489.0 L 244.0,489.0 L 245.0,489.0 L 245.0,487.0 L 242.0,487.0 L 242.0,486.0 L 244.0,486.0 L 245.0,486.0 L 245.0,484.0 L 242.0,484.0 L 242.0,483.0 L 240.0,483.0 L 240.0,480.0 L 241.0,480.0 L 242.0,480.0 L 242.0,477.0 L 243.0,477.0 L 243.0,478.0 L 244.0,478.0 L 244.0,472.0 L 245.0,472.0 L 245.0,471.0 L 244.0,471.0 L 244.0,470.0 L 242.0,470.0 L 242.0,471.0 L 240.0,471.0 L 240.0,470.0 L 237.0,470.0 z M 229.0,480.0 L 230.0,480.0 L 230.0,481.0 L 229.0,481.0 L 229.0,480.0 z M 220.0,490.0 L 221.0,490.0 L 221.0,491.0 L 220.0,491.0 L 220.0,490.0 z M 226.0,481.0 L 227.0,481.0 L 227.0,482.0 L 226.0,482.0 L 226.0,481.0 z M 224.0,481.0 L 224.0,482.0 L 225.0,482.0 L 225.0,481.0 L 224.0,481.0 z M 219.0,487.0 L 221.0,487.0 L 221.0,488.0 L 219.0,488.0 L 219.0,487.0 z M 235.0,477.0 L 235.0,478.0 L 237.0,478.0 L 237.0,477.0 L 235.0,477.0 z\" /><path fill-rule=\"evenodd\" fill=\"#ff3333\" stroke=\"#555555\" stroke-width=\"3.7871999999999995\" opacity=\"0.6\" d=\"M 214.0,494.0 L 214.0,497.0 L 215.0,497.0 L 215.0,494.0 L 214.0,494.0 z\" /><path fill-rule=\"evenodd\" fill=\"#ff3333\" stroke=\"#555555\" stroke-width=\"3.7871999999999995\" opacity=\"0.6\" d=\"M 211.0,495.0 L 211.0,496.0 L 212.0,496.0 L 212.0,495.0 L 211.0,495.0 z\" /><path fill-rule=\"evenodd\" fill=\"#ff3333\" stroke=\"#555555\" stroke-width=\"3.7871999999999995\" opacity=\"0.6\" d=\"M 219.0,496.0 L 219.0,497.0 L 220.0,497.0 L 220.0,496.0 L 219.0,496.0 z\" /><path fill-rule=\"evenodd\" fill=\"#ff3333\" stroke=\"#555555\" stroke-width=\"3.7871999999999995\" opacity=\"0.6\" d=\"M 220.0,497.0 L 220.0,499.0 L 222.0,499.0 L 222.0,497.0 L 220.0,497.0 z\" /><path fill-rule=\"evenodd\" fill=\"#ff3333\" stroke=\"#555555\" stroke-width=\"3.7871999999999995\" opacity=\"0.6\" d=\"M 219.0,499.0 L 219.0,501.0 L 220.0,501.0 L 220.0,502.0 L 219.0,502.0 L 219.0,503.0 L 221.0,503.0 L 222.0,503.0 L 222.0,501.0 L 221.0,501.0 L 221.0,500.0 L 220.0,500.0 L 220.0,499.0 L 219.0,499.0 z\" /><path fill-rule=\"evenodd\" fill=\"#ff3333\" stroke=\"#555555\" stroke-width=\"3.7871999999999995\" opacity=\"0.6\" d=\"M 164.0,503.0 L 164.0,504.0 L 165.0,504.0 L 165.0,503.0 L 164.0,503.0 z\" /><path fill-rule=\"evenodd\" fill=\"#ff3333\" stroke=\"#555555\" stroke-width=\"3.7871999999999995\" opacity=\"0.6\" d=\"M 444.0,506.0 L 444.0,508.0 L 446.0,508.0 L 446.0,506.0 L 444.0,506.0 z\" /><path fill-rule=\"evenodd\" fill=\"#ff3333\" stroke=\"#555555\" stroke-width=\"3.7871999999999995\" opacity=\"0.6\" d=\"M 224.0,508.0 L 224.0,509.0 L 225.0,509.0 L 225.0,508.0 L 224.0,508.0 z\" /><path fill-rule=\"evenodd\" fill=\"#ff3333\" stroke=\"#555555\" stroke-width=\"3.7871999999999995\" opacity=\"0.6\" d=\"M 162.0,508.0 L 162.0,510.0 L 163.0,510.0 L 163.0,508.0 L 162.0,508.0 z\" /><path fill-rule=\"evenodd\" fill=\"#ff3333\" stroke=\"#555555\" stroke-width=\"3.7871999999999995\" opacity=\"0.6\" d=\"M 164.0,509.0 L 164.0,510.0 L 166.0,510.0 L 166.0,509.0 L 164.0,509.0 z\" /><path fill-rule=\"evenodd\" fill=\"#ff3333\" stroke=\"#555555\" stroke-width=\"3.7871999999999995\" opacity=\"0.6\" d=\"M 161.0,511.0 L 161.0,513.0 L 163.0,513.0 L 163.0,514.0 L 165.0,514.0 L 165.0,513.0 L 164.0,513.0 L 164.0,512.0 L 162.0,512.0 L 162.0,511.0 L 161.0,511.0 z\" /><path fill-rule=\"evenodd\" fill=\"#ff3333\" stroke=\"#555555\" stroke-width=\"3.7871999999999995\" opacity=\"0.6\" d=\"M 227.0,509.0 L 227.0,510.0 L 226.0,510.0 L 224.0,510.0 L 224.0,512.0 L 223.0,512.0 L 221.0,512.0 L 221.0,513.0 L 233.0,513.0 L 233.0,512.0 L 234.0,512.0 L 234.0,511.0 L 235.0,511.0 L 235.0,512.0 L 236.0,512.0 L 236.0,509.0 L 235.0,509.0 L 235.0,510.0 L 234.0,510.0 L 234.0,509.0 L 232.0,509.0 L 232.0,510.0 L 231.0,510.0 L 231.0,509.0 L 230.0,509.0 L 230.0,510.0 L 228.0,510.0 L 228.0,509.0 L 227.0,509.0 z\" /><path fill-rule=\"evenodd\" fill=\"#ff3333\" stroke=\"#555555\" stroke-width=\"3.7871999999999995\" opacity=\"0.6\" d=\"M 162.0,514.0 L 162.0,516.0 L 163.0,516.0 L 163.0,514.0 L 162.0,514.0 z\" /><path fill-rule=\"evenodd\" fill=\"#ff3333\" stroke=\"#555555\" stroke-width=\"3.7871999999999995\" opacity=\"0.6\" d=\"M 166.0,514.0 L 166.0,515.0 L 167.0,515.0 L 167.0,514.0 L 166.0,514.0 z\" /></g></g></svg>"
      ],
      "text/plain": [
       "<shapely.geometry.multipolygon.MultiPolygon at 0x7f00ef6e5450>"
      ]
     },
     "execution_count": 175,
     "metadata": {},
     "output_type": "execute_result"
    }
   ],
   "source": [
    "multipolygon"
   ]
  },
  {
   "cell_type": "code",
   "execution_count": 191,
   "id": "ef275f79-2c83-49c3-bf21-b2d8fab39188",
   "metadata": {},
   "outputs": [
    {
     "data": {
      "text/plain": [
       "[(88.33703973751368, 280.91924899744805)]"
      ]
     },
     "execution_count": 191,
     "metadata": {},
     "output_type": "execute_result"
    }
   ],
   "source": [
    "list(M2.centroid.coords)"
   ]
  },
  {
   "cell_type": "code",
   "execution_count": 165,
   "id": "682c26e1-02b9-4918-86a4-4528931725e5",
   "metadata": {},
   "outputs": [
    {
     "data": {
      "image/svg+xml": [
       "<svg xmlns=\"http://www.w3.org/2000/svg\" xmlns:xlink=\"http://www.w3.org/1999/xlink\" width=\"100.0\" height=\"100.0\" viewBox=\"296.125 73.75 2.0 2.0\" preserveAspectRatio=\"xMinYMin meet\"><g transform=\"matrix(1,0,0,-1,0,149.5)\"><circle cx=\"297.125\" cy=\"74.75\" r=\"0.06\" stroke=\"#555555\" stroke-width=\"0.02\" fill=\"#66cc99\" opacity=\"0.6\" /></g></svg>"
      ],
      "text/plain": [
       "<shapely.geometry.point.Point at 0x7f00ef6e53d0>"
      ]
     },
     "execution_count": 165,
     "metadata": {},
     "output_type": "execute_result"
    }
   ],
   "source": [
    "Polygon(Polygons[1]).centroid"
   ]
  },
  {
   "cell_type": "code",
   "execution_count": 207,
   "id": "579a38b7-711c-4910-a3db-e5ea7f2602bd",
   "metadata": {},
   "outputs": [],
   "source": [
    "a = Polygon(Polygons[0]).centroid\n",
    "b = Polygon(Polygons[1]).centroid"
   ]
  },
  {
   "cell_type": "code",
   "execution_count": 213,
   "id": "5bb839ec-3894-4a55-82ef-3935b6c93522",
   "metadata": {},
   "outputs": [
    {
     "name": "stdout",
     "output_type": "stream",
     "text": [
      "(531.0979381443299, 184.40721649484536)\n",
      "(59.198816700156286, 254.44440723375754)\n"
     ]
    }
   ],
   "source": [
    "print(a.coords[:][0])\n",
    "print(b.coords[:][0])"
   ]
  },
  {
   "cell_type": "code",
   "execution_count": 216,
   "id": "a80217a6-0f78-40a0-8f68-b3306a27dfac",
   "metadata": {},
   "outputs": [],
   "source": [
    "c = (a.coords[:][0][0]**2-b.coords[:][0][0]**2)+(a.coords[:][0][1]**2-b.coords[:][0][1]**2)"
   ]
  },
  {
   "cell_type": "code",
   "execution_count": 218,
   "id": "3d1ddbb7-472f-4930-941c-46b9ef88ee2a",
   "metadata": {},
   "outputs": [
    {
     "data": {
      "text/plain": [
       "497.81983199275845"
      ]
     },
     "execution_count": 218,
     "metadata": {},
     "output_type": "execute_result"
    }
   ],
   "source": [
    "c**0.5"
   ]
  },
  {
   "cell_type": "code",
   "execution_count": 192,
   "id": "a125f5ca-343b-414c-87b4-791d98d1aae1",
   "metadata": {},
   "outputs": [
    {
     "data": {
      "text/plain": [
       "477.0681176796262"
      ]
     },
     "execution_count": 192,
     "metadata": {},
     "output_type": "execute_result"
    }
   ],
   "source": [
    "Polygon(Polygons[0]).centroid.distance(Polygon(Polygons[1]).centroid)"
   ]
  },
  {
   "cell_type": "code",
   "execution_count": 130,
   "id": "86e54346-7f9d-42a8-a504-8b5f75bec408",
   "metadata": {},
   "outputs": [
    {
     "data": {
      "text/plain": [
       "8.0"
      ]
     },
     "execution_count": 130,
     "metadata": {},
     "output_type": "execute_result"
    }
   ],
   "source": [
    "polygon.area"
   ]
  },
  {
   "cell_type": "code",
   "execution_count": 180,
   "id": "f4c446b4-40b9-4de8-9be0-b4726ea3b074",
   "metadata": {},
   "outputs": [],
   "source": [
    "Polygons = list(rain)"
   ]
  },
  {
   "cell_type": "code",
   "execution_count": 185,
   "id": "c8e79afb-e760-4ea3-90ba-92cc3cde918e",
   "metadata": {},
   "outputs": [
    {
     "data": {
      "text/plain": [
       "4479.0"
      ]
     },
     "execution_count": 185,
     "metadata": {},
     "output_type": "execute_result"
    }
   ],
   "source": [
    "Polygons[1].area"
   ]
  },
  {
   "cell_type": "code",
   "execution_count": 186,
   "id": "c2d1e325-a3ab-4d91-8eaa-d27a91598263",
   "metadata": {},
   "outputs": [
    {
     "data": {
      "image/svg+xml": [
       "<svg xmlns=\"http://www.w3.org/2000/svg\" xmlns:xlink=\"http://www.w3.org/1999/xlink\" width=\"100.0\" height=\"100.0\" viewBox=\"58.198816700156286 253.44440723375754 2.0 2.0\" preserveAspectRatio=\"xMinYMin meet\"><g transform=\"matrix(1,0,0,-1,0,508.8888144675151)\"><circle cx=\"59.198816700156286\" cy=\"254.44440723375754\" r=\"0.06\" stroke=\"#555555\" stroke-width=\"0.02\" fill=\"#66cc99\" opacity=\"0.6\" /></g></svg>"
      ],
      "text/plain": [
       "<shapely.geometry.point.Point at 0x7f00ef6e5ed0>"
      ]
     },
     "execution_count": 186,
     "metadata": {},
     "output_type": "execute_result"
    }
   ],
   "source": [
    "Polygons[1].centroid"
   ]
  },
  {
   "cell_type": "code",
   "execution_count": 182,
   "id": "35f744be-30c8-49c0-b3bc-890e09a1ab3f",
   "metadata": {},
   "outputs": [
    {
     "ename": "NameError",
     "evalue": "name 'geod' is not defined",
     "output_type": "error",
     "traceback": [
      "\u001b[0;31m---------------------------------------------------------------------------\u001b[0m",
      "\u001b[0;31mNameError\u001b[0m                                 Traceback (most recent call last)",
      "\u001b[0;32m/tmp/ipykernel_27681/96708145.py\u001b[0m in \u001b[0;36m<module>\u001b[0;34m\u001b[0m\n\u001b[0;32m----> 1\u001b[0;31m \u001b[0marea\u001b[0m \u001b[0;34m=\u001b[0m \u001b[0mabs\u001b[0m\u001b[0;34m(\u001b[0m\u001b[0mgeod\u001b[0m\u001b[0;34m.\u001b[0m\u001b[0mgeometry_area_perimeter\u001b[0m\u001b[0;34m(\u001b[0m\u001b[0mPolygons\u001b[0m\u001b[0;34m)\u001b[0m\u001b[0;34m[\u001b[0m\u001b[0;36m0\u001b[0m\u001b[0;34m]\u001b[0m\u001b[0;34m)\u001b[0m\u001b[0;34m\u001b[0m\u001b[0;34m\u001b[0m\u001b[0m\n\u001b[0m",
      "\u001b[0;31mNameError\u001b[0m: name 'geod' is not defined"
     ]
    }
   ],
   "source": [
    "area = abs(geod.geometry_area_perimeter(Polygons)[0])"
   ]
  },
  {
   "cell_type": "code",
   "execution_count": null,
   "id": "dfc27d89-c021-4521-8200-f6a1565dab4c",
   "metadata": {},
   "outputs": [],
   "source": []
  },
  {
   "cell_type": "code",
   "execution_count": 112,
   "id": "a241cd95-b5c0-4ca4-a0e9-cde06f0c6946",
   "metadata": {},
   "outputs": [
    {
     "ename": "AttributeError",
     "evalue": "'dict' object has no attribute 'head'",
     "output_type": "error",
     "traceback": [
      "\u001b[0;31m---------------------------------------------------------------------------\u001b[0m",
      "\u001b[0;31mAttributeError\u001b[0m                            Traceback (most recent call last)",
      "\u001b[0;32m/tmp/ipykernel_27681/1839149037.py\u001b[0m in \u001b[0;36m<module>\u001b[0;34m\u001b[0m\n\u001b[0;32m----> 1\u001b[0;31m \u001b[0mshp_schema\u001b[0m\u001b[0;34m.\u001b[0m\u001b[0mhead\u001b[0m\u001b[0;34m(\u001b[0m\u001b[0;34m)\u001b[0m\u001b[0;34m\u001b[0m\u001b[0;34m\u001b[0m\u001b[0m\n\u001b[0m",
      "\u001b[0;31mAttributeError\u001b[0m: 'dict' object has no attribute 'head'"
     ]
    }
   ],
   "source": [
    "shp_schema"
   ]
  },
  {
   "cell_type": "code",
   "execution_count": 108,
   "id": "8786599c-a6d6-4e58-b1c9-28e28d06cca0",
   "metadata": {},
   "outputs": [
    {
     "ename": "AttributeError",
     "evalue": "'MultiPolygon' object has no attribute 'explode'",
     "output_type": "error",
     "traceback": [
      "\u001b[0;31m---------------------------------------------------------------------------\u001b[0m",
      "\u001b[0;31mAttributeError\u001b[0m                            Traceback (most recent call last)",
      "\u001b[0;32m/tmp/ipykernel_27681/3126244085.py\u001b[0m in \u001b[0;36m<module>\u001b[0;34m\u001b[0m\n\u001b[0;32m----> 1\u001b[0;31m \u001b[0mexploded\u001b[0m \u001b[0;34m=\u001b[0m \u001b[0mmultipolygon\u001b[0m\u001b[0;34m.\u001b[0m\u001b[0mexplode\u001b[0m\u001b[0;34m(\u001b[0m\u001b[0;34m)\u001b[0m\u001b[0;34m\u001b[0m\u001b[0;34m\u001b[0m\u001b[0m\n\u001b[0m",
      "\u001b[0;31mAttributeError\u001b[0m: 'MultiPolygon' object has no attribute 'explode'"
     ]
    }
   ],
   "source": [
    "exploded = multipolygon.explode()"
   ]
  },
  {
   "cell_type": "code",
   "execution_count": 91,
   "id": "938ba019-bce2-4a73-a6bc-1e95191da85c",
   "metadata": {},
   "outputs": [
    {
     "data": {
      "text/plain": [
       "array([  1, 255], dtype=uint8)"
      ]
     },
     "execution_count": 91,
     "metadata": {},
     "output_type": "execute_result"
    }
   ],
   "source": [
    "#unique_values"
   ]
  },
  {
   "cell_type": "code",
   "execution_count": 88,
   "id": "26a205dd-6a1c-4069-883b-38ce1480e01f",
   "metadata": {},
   "outputs": [],
   "source": [
    "#unique_values = unique_values[[0]]"
   ]
  },
  {
   "cell_type": "code",
   "execution_count": 94,
   "id": "2e83a38b-c3a4-4b26-bb70-c6ecb5eac206",
   "metadata": {},
   "outputs": [],
   "source": [
    "#with fiona.open('output.shp', 'w', 'ESRI Shapefile', shp_schema, crs) as shp:\n",
    "#    for pixel_value in unique_values:\n",
    "#        polygons = [shape(geom) for geom, value in shapes\n",
    "#                    if value == pixel_value]\n",
    "#        multipolygon = MultiPolygon(polygons)\n",
    "#        shp.write({\n",
    "#            'geometry': mapping(multipolygon),\n",
    "#            'properties': {'pixelvalue': int(pixel_value)}\n",
    "#        })\n"
   ]
  },
  {
   "cell_type": "code",
   "execution_count": 37,
   "id": "f84294d7-b226-428e-9204-ad2a472c771b",
   "metadata": {},
   "outputs": [],
   "source": [
    "#import rasterio as rio\n",
    "#ra = rio.open(\"test-tiff.tiff\")\n",
    "#bounds  = ra.bounds"
   ]
  },
  {
   "cell_type": "code",
   "execution_count": 38,
   "id": "16ddfea7-74ed-4692-a972-bf2f3b2f21fc",
   "metadata": {},
   "outputs": [],
   "source": [
    "#from shapely.geometry import box"
   ]
  },
  {
   "cell_type": "code",
   "execution_count": 97,
   "id": "09038217-440f-42ba-a9f8-fd0b98c49f23",
   "metadata": {},
   "outputs": [
    {
     "data": {
      "text/plain": [
       "<function dict.values>"
      ]
     },
     "execution_count": 97,
     "metadata": {},
     "output_type": "execute_result"
    }
   ],
   "source": [
    "shp_schema"
   ]
  },
  {
   "cell_type": "code",
   "execution_count": 98,
   "id": "e793f798-5f5c-4107-a7c3-52ceefec7271",
   "metadata": {},
   "outputs": [
    {
     "ename": "TypeError",
     "evalue": "Image data of dtype object cannot be converted to float",
     "output_type": "error",
     "traceback": [
      "\u001b[0;31m---------------------------------------------------------------------------\u001b[0m",
      "\u001b[0;31mTypeError\u001b[0m                                 Traceback (most recent call last)",
      "\u001b[0;32m/tmp/ipykernel_27681/4108877184.py\u001b[0m in \u001b[0;36m<module>\u001b[0;34m\u001b[0m\n\u001b[0;32m----> 1\u001b[0;31m \u001b[0mplt\u001b[0m\u001b[0;34m.\u001b[0m\u001b[0mimshow\u001b[0m\u001b[0;34m(\u001b[0m\u001b[0mshp_schema\u001b[0m\u001b[0;34m)\u001b[0m\u001b[0;34m\u001b[0m\u001b[0;34m\u001b[0m\u001b[0m\n\u001b[0m\u001b[1;32m      2\u001b[0m \u001b[0mplt\u001b[0m\u001b[0;34m.\u001b[0m\u001b[0mshow\u001b[0m\u001b[0;34m(\u001b[0m\u001b[0;34m)\u001b[0m\u001b[0;34m\u001b[0m\u001b[0;34m\u001b[0m\u001b[0m\n",
      "\u001b[0;32m~/anaconda3/envs/gis/lib/python3.7/site-packages/matplotlib/pyplot.py\u001b[0m in \u001b[0;36mimshow\u001b[0;34m(X, cmap, norm, aspect, interpolation, alpha, vmin, vmax, origin, extent, filternorm, filterrad, resample, url, data, **kwargs)\u001b[0m\n\u001b[1;32m   2907\u001b[0m         \u001b[0mfilternorm\u001b[0m\u001b[0;34m=\u001b[0m\u001b[0mfilternorm\u001b[0m\u001b[0;34m,\u001b[0m \u001b[0mfilterrad\u001b[0m\u001b[0;34m=\u001b[0m\u001b[0mfilterrad\u001b[0m\u001b[0;34m,\u001b[0m \u001b[0mresample\u001b[0m\u001b[0;34m=\u001b[0m\u001b[0mresample\u001b[0m\u001b[0;34m,\u001b[0m\u001b[0;34m\u001b[0m\u001b[0;34m\u001b[0m\u001b[0m\n\u001b[1;32m   2908\u001b[0m         \u001b[0murl\u001b[0m\u001b[0;34m=\u001b[0m\u001b[0murl\u001b[0m\u001b[0;34m,\u001b[0m \u001b[0;34m**\u001b[0m\u001b[0;34m(\u001b[0m\u001b[0;34m{\u001b[0m\u001b[0;34m\"data\"\u001b[0m\u001b[0;34m:\u001b[0m \u001b[0mdata\u001b[0m\u001b[0;34m}\u001b[0m \u001b[0;32mif\u001b[0m \u001b[0mdata\u001b[0m \u001b[0;32mis\u001b[0m \u001b[0;32mnot\u001b[0m \u001b[0;32mNone\u001b[0m \u001b[0;32melse\u001b[0m \u001b[0;34m{\u001b[0m\u001b[0;34m}\u001b[0m\u001b[0;34m)\u001b[0m\u001b[0;34m,\u001b[0m\u001b[0;34m\u001b[0m\u001b[0;34m\u001b[0m\u001b[0m\n\u001b[0;32m-> 2909\u001b[0;31m         **kwargs)\n\u001b[0m\u001b[1;32m   2910\u001b[0m     \u001b[0msci\u001b[0m\u001b[0;34m(\u001b[0m\u001b[0m__ret\u001b[0m\u001b[0;34m)\u001b[0m\u001b[0;34m\u001b[0m\u001b[0;34m\u001b[0m\u001b[0m\n\u001b[1;32m   2911\u001b[0m     \u001b[0;32mreturn\u001b[0m \u001b[0m__ret\u001b[0m\u001b[0;34m\u001b[0m\u001b[0;34m\u001b[0m\u001b[0m\n",
      "\u001b[0;32m~/anaconda3/envs/gis/lib/python3.7/site-packages/matplotlib/__init__.py\u001b[0m in \u001b[0;36minner\u001b[0;34m(ax, data, *args, **kwargs)\u001b[0m\n\u001b[1;32m   1359\u001b[0m     \u001b[0;32mdef\u001b[0m \u001b[0minner\u001b[0m\u001b[0;34m(\u001b[0m\u001b[0max\u001b[0m\u001b[0;34m,\u001b[0m \u001b[0;34m*\u001b[0m\u001b[0margs\u001b[0m\u001b[0;34m,\u001b[0m \u001b[0mdata\u001b[0m\u001b[0;34m=\u001b[0m\u001b[0;32mNone\u001b[0m\u001b[0;34m,\u001b[0m \u001b[0;34m**\u001b[0m\u001b[0mkwargs\u001b[0m\u001b[0;34m)\u001b[0m\u001b[0;34m:\u001b[0m\u001b[0;34m\u001b[0m\u001b[0;34m\u001b[0m\u001b[0m\n\u001b[1;32m   1360\u001b[0m         \u001b[0;32mif\u001b[0m \u001b[0mdata\u001b[0m \u001b[0;32mis\u001b[0m \u001b[0;32mNone\u001b[0m\u001b[0;34m:\u001b[0m\u001b[0;34m\u001b[0m\u001b[0;34m\u001b[0m\u001b[0m\n\u001b[0;32m-> 1361\u001b[0;31m             \u001b[0;32mreturn\u001b[0m \u001b[0mfunc\u001b[0m\u001b[0;34m(\u001b[0m\u001b[0max\u001b[0m\u001b[0;34m,\u001b[0m \u001b[0;34m*\u001b[0m\u001b[0mmap\u001b[0m\u001b[0;34m(\u001b[0m\u001b[0msanitize_sequence\u001b[0m\u001b[0;34m,\u001b[0m \u001b[0margs\u001b[0m\u001b[0;34m)\u001b[0m\u001b[0;34m,\u001b[0m \u001b[0;34m**\u001b[0m\u001b[0mkwargs\u001b[0m\u001b[0;34m)\u001b[0m\u001b[0;34m\u001b[0m\u001b[0;34m\u001b[0m\u001b[0m\n\u001b[0m\u001b[1;32m   1362\u001b[0m \u001b[0;34m\u001b[0m\u001b[0m\n\u001b[1;32m   1363\u001b[0m         \u001b[0mbound\u001b[0m \u001b[0;34m=\u001b[0m \u001b[0mnew_sig\u001b[0m\u001b[0;34m.\u001b[0m\u001b[0mbind\u001b[0m\u001b[0;34m(\u001b[0m\u001b[0max\u001b[0m\u001b[0;34m,\u001b[0m \u001b[0;34m*\u001b[0m\u001b[0margs\u001b[0m\u001b[0;34m,\u001b[0m \u001b[0;34m**\u001b[0m\u001b[0mkwargs\u001b[0m\u001b[0;34m)\u001b[0m\u001b[0;34m\u001b[0m\u001b[0;34m\u001b[0m\u001b[0m\n",
      "\u001b[0;32m~/anaconda3/envs/gis/lib/python3.7/site-packages/matplotlib/axes/_axes.py\u001b[0m in \u001b[0;36mimshow\u001b[0;34m(self, X, cmap, norm, aspect, interpolation, alpha, vmin, vmax, origin, extent, filternorm, filterrad, resample, url, **kwargs)\u001b[0m\n\u001b[1;32m   5607\u001b[0m                               resample=resample, **kwargs)\n\u001b[1;32m   5608\u001b[0m \u001b[0;34m\u001b[0m\u001b[0m\n\u001b[0;32m-> 5609\u001b[0;31m         \u001b[0mim\u001b[0m\u001b[0;34m.\u001b[0m\u001b[0mset_data\u001b[0m\u001b[0;34m(\u001b[0m\u001b[0mX\u001b[0m\u001b[0;34m)\u001b[0m\u001b[0;34m\u001b[0m\u001b[0;34m\u001b[0m\u001b[0m\n\u001b[0m\u001b[1;32m   5610\u001b[0m         \u001b[0mim\u001b[0m\u001b[0;34m.\u001b[0m\u001b[0mset_alpha\u001b[0m\u001b[0;34m(\u001b[0m\u001b[0malpha\u001b[0m\u001b[0;34m)\u001b[0m\u001b[0;34m\u001b[0m\u001b[0;34m\u001b[0m\u001b[0m\n\u001b[1;32m   5611\u001b[0m         \u001b[0;32mif\u001b[0m \u001b[0mim\u001b[0m\u001b[0;34m.\u001b[0m\u001b[0mget_clip_path\u001b[0m\u001b[0;34m(\u001b[0m\u001b[0;34m)\u001b[0m \u001b[0;32mis\u001b[0m \u001b[0;32mNone\u001b[0m\u001b[0;34m:\u001b[0m\u001b[0;34m\u001b[0m\u001b[0;34m\u001b[0m\u001b[0m\n",
      "\u001b[0;32m~/anaconda3/envs/gis/lib/python3.7/site-packages/matplotlib/image.py\u001b[0m in \u001b[0;36mset_data\u001b[0;34m(self, A)\u001b[0m\n\u001b[1;32m    699\u001b[0m                 not np.can_cast(self._A.dtype, float, \"same_kind\")):\n\u001b[1;32m    700\u001b[0m             raise TypeError(\"Image data of dtype {} cannot be converted to \"\n\u001b[0;32m--> 701\u001b[0;31m                             \"float\".format(self._A.dtype))\n\u001b[0m\u001b[1;32m    702\u001b[0m \u001b[0;34m\u001b[0m\u001b[0m\n\u001b[1;32m    703\u001b[0m         \u001b[0;32mif\u001b[0m \u001b[0mself\u001b[0m\u001b[0;34m.\u001b[0m\u001b[0m_A\u001b[0m\u001b[0;34m.\u001b[0m\u001b[0mndim\u001b[0m \u001b[0;34m==\u001b[0m \u001b[0;36m3\u001b[0m \u001b[0;32mand\u001b[0m \u001b[0mself\u001b[0m\u001b[0;34m.\u001b[0m\u001b[0m_A\u001b[0m\u001b[0;34m.\u001b[0m\u001b[0mshape\u001b[0m\u001b[0;34m[\u001b[0m\u001b[0;34m-\u001b[0m\u001b[0;36m1\u001b[0m\u001b[0;34m]\u001b[0m \u001b[0;34m==\u001b[0m \u001b[0;36m1\u001b[0m\u001b[0;34m:\u001b[0m\u001b[0;34m\u001b[0m\u001b[0;34m\u001b[0m\u001b[0m\n",
      "\u001b[0;31mTypeError\u001b[0m: Image data of dtype object cannot be converted to float"
     ]
    },
    {
     "data": {
      "image/png": "[encoded data removed]",
      "text/plain": [
       "<Figure size 432x288 with 1 Axes>"
      ]
     },
     "metadata": {
      "needs_background": "light"
     },
     "output_type": "display_data"
    }
   ],
   "source": [
    "plt.imshow(shp_schema)\n",
    "plt.show()"
   ]
  },
  {
   "cell_type": "code",
   "execution_count": 45,
   "id": "bd2818f6-2f63-4b49-ba03-b40d81914f6e",
   "metadata": {},
   "outputs": [
    {
     "data": {
      "text/plain": [
       "[(11, 710)]"
      ]
     },
     "execution_count": 45,
     "metadata": {},
     "output_type": "execute_result"
    }
   ],
   "source": [
    "ra."
   ]
  },
  {
   "cell_type": "code",
   "execution_count": 43,
   "id": "2295d7c9-44a8-4255-8143-a7b9874303ca",
   "metadata": {},
   "outputs": [
    {
     "ename": "AttributeError",
     "evalue": "'BoundingBox' object has no attribute 'wkt'",
     "output_type": "error",
     "traceback": [
      "\u001b[0;31m---------------------------------------------------------------------------\u001b[0m",
      "\u001b[0;31mAttributeError\u001b[0m                            Traceback (most recent call last)",
      "\u001b[0;32m/tmp/ipykernel_27681/465058471.py\u001b[0m in \u001b[0;36m<module>\u001b[0;34m\u001b[0m\n\u001b[1;32m      1\u001b[0m \u001b[0mgeom\u001b[0m \u001b[0;34m=\u001b[0m \u001b[0mra\u001b[0m\u001b[0;34m.\u001b[0m\u001b[0mbounds\u001b[0m\u001b[0;31m# box(*bounds)\u001b[0m\u001b[0;34m\u001b[0m\u001b[0;34m\u001b[0m\u001b[0m\n\u001b[0;32m----> 2\u001b[0;31m \u001b[0mprint\u001b[0m\u001b[0;34m(\u001b[0m\u001b[0mgeom\u001b[0m\u001b[0;34m.\u001b[0m\u001b[0mwkt\u001b[0m\u001b[0;34m)\u001b[0m\u001b[0;34m\u001b[0m\u001b[0;34m\u001b[0m\u001b[0m\n\u001b[0m",
      "\u001b[0;31mAttributeError\u001b[0m: 'BoundingBox' object has no attribute 'wkt'"
     ]
    }
   ],
   "source": [
    "geom = ra.bounds# box(*bounds)\n",
    "print(geom.wkt)\n"
   ]
  },
  {
   "cell_type": "code",
   "execution_count": 25,
   "id": "f46b23ba-1919-4b10-b842-5762840303cc",
   "metadata": {},
   "outputs": [],
   "source": [
    "df = gpd.GeoDataFrame({\"id\":1,\"geometry\":[geom]})\n",
    "df.to_file(\"boundary.shp\")"
   ]
  },
  {
   "cell_type": "code",
   "execution_count": 26,
   "id": "e216eaf2-4944-4fb1-bf97-554eeafdee7d",
   "metadata": {},
   "outputs": [],
   "source": [
    "df = gpd.GeoDataFrame({\"id\":1,\"geometry\":[geom]})\n",
    "df.to_file(\"boundary.shp\")\n"
   ]
  },
  {
   "cell_type": "code",
   "execution_count": 27,
   "id": "da33d187-8271-47ce-b20a-208fb1235ed1",
   "metadata": {},
   "outputs": [
    {
     "name": "stdout",
     "output_type": "stream",
     "text": [
      "boundary.shp\n"
     ]
    }
   ],
   "source": [
    "!ls *.shp"
   ]
  },
  {
   "cell_type": "code",
   "execution_count": 28,
   "id": "bd7c7b66-1a31-4df4-89fe-f346f02c9e27",
   "metadata": {},
   "outputs": [],
   "source": [
    "boundary = gpd.read_file(\"boundary.shp\")\n"
   ]
  },
  {
   "cell_type": "code",
   "execution_count": 58,
   "id": "f4a75db7-8705-4779-a40b-a6d3ce8ee254",
   "metadata": {},
   "outputs": [
    {
     "data": {
      "text/plain": [
       "<AxesSubplot:>"
      ]
     },
     "execution_count": 58,
     "metadata": {},
     "output_type": "execute_result"
    },
    {
     "data": {
      "image/png": "[encoded data removed]",
      "text/plain": [
       "<Figure size 432x288 with 1 Axes>"
      ]
     },
     "metadata": {
      "needs_background": "light"
     },
     "output_type": "display_data"
    }
   ],
   "source": [
    "gdf.plot()"
   ]
  },
  {
   "cell_type": "code",
   "execution_count": 17,
   "id": "d81ed80b-7d93-4c11-a0af-2f0e1261d186",
   "metadata": {},
   "outputs": [
    {
     "data": {
      "text/plain": [
       "<AxesSubplot:>"
      ]
     },
     "execution_count": 17,
     "metadata": {},
     "output_type": "execute_result"
    },
    {
     "data": {
      "image/png": "[encoded data removed]",
      "text/plain": [
       "<Figure size 576x288 with 1 Axes>"
      ]
     },
     "metadata": {
      "needs_background": "light"
     },
     "output_type": "display_data"
    }
   ],
   "source": [
    "geoplot.polyplot(boundary, figsize=(8, 4))"
   ]
  },
  {
   "cell_type": "code",
   "execution_count": null,
   "id": "137affb0-00d8-4dc4-8fb7-9fd821d2b0cf",
   "metadata": {},
   "outputs": [],
   "source": []
  }
 ],
 "metadata": {
  "kernelspec": {
   "display_name": "Python 3 (ipykernel)",
   "language": "python",
   "name": "python3"
  },
  "language_info": {
   "codemirror_mode": {
    "name": "ipython",
    "version": 3
   },
   "file_extension": ".py",
   "mimetype": "text/x-python",
   "name": "python",
   "nbconvert_exporter": "python",
   "pygments_lexer": "ipython3",
   "version": "3.7.11"
  }
 },
 "nbformat": 4,
 "nbformat_minor": 5
}
