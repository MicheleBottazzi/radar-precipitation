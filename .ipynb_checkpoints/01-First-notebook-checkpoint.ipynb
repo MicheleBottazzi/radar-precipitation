{
 "cells": [
  {
   "cell_type": "markdown",
   "id": "5c34b2e9-5497-4561-9a2c-c1b4dfa59d46",
   "metadata": {},
   "source": [
    "# 01 - First notebook"
   ]
  },
  {
   "cell_type": "code",
   "execution_count": 13,
   "id": "ee523f10-4c40-4b96-b86c-f8360b43bfdd",
   "metadata": {},
   "outputs": [],
   "source": [
    "import numpy as np\n",
    "import fiona\n",
    "import rasterio\n",
    "import rasterio.features\n",
    "from shapely.geometry import shape, mapping, Polygon\n",
    "from shapely.geometry.multipolygon import MultiPolygon"
   ]
  },
  {
   "cell_type": "code",
   "execution_count": 14,
   "id": "0030e2c9-c1bc-478c-a3a3-aab775e674f5",
   "metadata": {},
   "outputs": [],
   "source": [
    "import os"
   ]
  },
  {
   "cell_type": "code",
   "execution_count": 15,
   "id": "caabcf84-f484-4fc8-8a61-30e96006856c",
   "metadata": {},
   "outputs": [
    {
     "name": "stdout",
     "output_type": "stream",
     "text": [
      "/home/drugo/radar-precipitation\n"
     ]
    }
   ],
   "source": [
    "!pwd"
   ]
  },
  {
   "cell_type": "code",
   "execution_count": 16,
   "id": "dbf62a17-a083-4db8-b3b1-df88841426f9",
   "metadata": {},
   "outputs": [],
   "source": [
    "path = '/home/drugo/radar-precipitation'"
   ]
  },
  {
   "cell_type": "code",
   "execution_count": 17,
   "id": "cac3e040-b9cd-4437-9675-5a0b08ad44dd",
   "metadata": {},
   "outputs": [],
   "source": [
    "os.chdir(path)"
   ]
  },
  {
   "cell_type": "code",
   "execution_count": 18,
   "id": "12784255-f5a2-415d-a418-0cdb66287cc5",
   "metadata": {},
   "outputs": [],
   "source": [
    "def read_tiff_file(file_path):\n",
    "    with open(file_path, 'r') as f:\n",
    "        print(f.read())"
   ]
  },
  {
   "cell_type": "code",
   "execution_count": 19,
   "id": "f0de01a1-5d6a-400e-9213-83baebca2c6d",
   "metadata": {},
   "outputs": [],
   "source": [
    "def read_tiff_file(file_path):\n",
    "    centroids = []\n",
    "    with rasterio.open(file_path) as src:\n",
    "        crs = src.crs\n",
    "        src_band = src.read(1)\n",
    "        src_band[src_band<=1]=255\n",
    "        src_band[src_band<255]=1\n",
    "        unique_values = np.unique(src_band)\n",
    "        unique_values = unique_values[[0]]\n",
    "        shapes = list(rasterio.features.shapes(src_band, transform=src.transform))\n",
    "        \n",
    "        shp_polygon_schema = {\n",
    "            'geometry': 'MultiPolygon',\n",
    "            'properties': {'id':'int'}\n",
    "        }\n",
    "        \n",
    "        with fiona.open('../polygons/'+file_path.replace('.tiff','.shp'),'w','ESRI Shapefile',shp_polygon_schema) as shp:\n",
    "            for pixel_value in unique_values:\n",
    "                polygons = [shape(geom) for geom, value in shapes\n",
    "                            if value == pixel_value]\n",
    "                for i in range(len(polygons)):\n",
    "                    multipolygon = MultiPolygon(polygons)    \n",
    "                                \n",
    "            shp.write({\n",
    "                'geometry': mapping(multipolygon),\n",
    "                'properties': {'id': int(file_path[:-5])}\n",
    "            })\n",
    "            \n",
    "        shp_centroid_schema = {\n",
    "            'geometry': 'Point',\n",
    "            'properties': {'id':'int'}\n",
    "        }\n",
    "        centroids.append(multipolygon.centroid)\n",
    "        \n",
    "        with fiona.open('../centroids/'+file_path.replace('.tiff','_centroid.shp'),'w','ESRI Shapefile',shp_centroid_schema) as shp:\n",
    "            shp.write({\n",
    "                'geometry': mapping(multipolygon.centroid),\n",
    "                'properties': {'id': int(file_path[:-5])}\n",
    "            })"
   ]
  },
  {
   "cell_type": "code",
   "execution_count": 57,
   "id": "2d21dad5-f116-464a-aac1-ce03c526bb77",
   "metadata": {},
   "outputs": [
    {
     "name": "stdout",
     "output_type": "stream",
     "text": [
      "201909092300.tiff\n",
      "201909092305.tiff\n",
      "201909092340.tiff\n",
      "201909100030.tiff\n",
      "201909100015.tiff\n",
      "201909100040.tiff\n",
      "201909092140.tiff\n",
      "201909092125.tiff\n",
      "201909100205.tiff\n",
      "201909100135.tiff\n",
      "201909092150.tiff\n",
      "201909092345.tiff\n",
      "201909092320.tiff\n",
      "201909100105.tiff\n",
      "201909092310.tiff\n",
      "201909092355.tiff\n",
      "201909100005.tiff\n",
      "201909100050.tiff\n",
      "201909092315.tiff\n",
      "201909100010.tiff\n",
      "201909092330.tiff\n",
      "201909092335.tiff\n",
      "201909100020.tiff\n",
      "201909092250.tiff\n",
      "201909092245.tiff\n",
      "201909092235.tiff\n",
      "201909092350.tiff\n",
      "201909100110.tiff\n",
      "201909092120.tiff\n",
      "201909092135.tiff\n",
      "201909092225.tiff\n",
      "201909100000.tiff\n",
      "201909100145.tiff\n",
      "201909100215.tiff\n",
      "201909100115.tiff\n",
      "201909092130.tiff\n",
      "201909100125.tiff\n",
      "201909100130.tiff\n",
      "201909100150.tiff\n",
      "201909100025.tiff\n",
      "201909100055.tiff\n",
      "201909092325.tiff\n",
      "201909100045.tiff\n",
      "201909100100.tiff\n",
      "201909092240.tiff\n",
      "201909100200.tiff\n",
      "201909100035.tiff\n",
      "201909100210.tiff\n",
      "201909100155.tiff\n",
      "201909092205.tiff\n",
      "201909100120.tiff\n",
      "201909092220.tiff\n",
      "201909092155.tiff\n",
      "201909092230.tiff\n",
      "201909092215.tiff\n",
      "201909092255.tiff\n",
      "201909092145.tiff\n",
      "201909100140.tiff\n",
      "201909092200.tiff\n",
      "201909092210.tiff\n"
     ]
    }
   ],
   "source": [
    "for file in os.listdir():\n",
    "    if file.endswith(\".tiff\"):\n",
    "        print(file)\n",
    "        read_tiff_file(file)"
   ]
  },
  {
   "cell_type": "markdown",
   "id": "62abfc63-8036-4ebd-b2be-dccfee7dedcf",
   "metadata": {},
   "source": [
    "############################################################\n",
    "\n",
    "############################################################\n",
    "\n",
    "############################################################"
   ]
  },
  {
   "cell_type": "code",
   "execution_count": null,
   "id": "56fd37ff-70c8-4f78-ae48-9a6ca13231cd",
   "metadata": {},
   "outputs": [],
   "source": []
  }
 ],
 "metadata": {
  "kernelspec": {
   "display_name": "Python 3 (ipykernel)",
   "language": "python",
   "name": "python3"
  },
  "language_info": {
   "codemirror_mode": {
    "name": "ipython",
    "version": 3
   },
   "file_extension": ".py",
   "mimetype": "text/x-python",
   "name": "python",
   "nbconvert_exporter": "python",
   "pygments_lexer": "ipython3",
   "version": "3.7.11"
  }
 },
 "nbformat": 4,
 "nbformat_minor": 5
}
