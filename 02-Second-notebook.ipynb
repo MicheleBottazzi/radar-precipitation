{
 "cells": [
  {
   "cell_type": "markdown",
   "id": "a004662b-2276-41f1-b31b-7b5e3f405a17",
   "metadata": {},
   "source": [
    "# 02 - Second notebook"
   ]
  },
  {
   "cell_type": "code",
   "execution_count": 1,
   "id": "19cda476-9b22-4473-b3aa-813574b33882",
   "metadata": {},
   "outputs": [],
   "source": [
    "import numpy as np\n",
    "import fiona\n",
    "import rasterio\n",
    "import rasterio.features\n",
    "from shapely.geometry import shape, mapping, Polygon\n",
    "from shapely.geometry.multipolygon import MultiPolygon\n",
    "import geopandas as gpd\n",
    "import pandas as pd\n",
    "from datetime import datetime\n",
    "from pyproj import Transformer"
   ]
  },
  {
   "cell_type": "code",
   "execution_count": 2,
   "id": "f7de74e0-115e-4262-9879-05ae5dc7e37e",
   "metadata": {},
   "outputs": [],
   "source": [
    "import os"
   ]
  },
  {
   "cell_type": "code",
   "execution_count": 3,
   "id": "e27e878b-d8cb-44ef-b80c-3bb07f0cdccd",
   "metadata": {},
   "outputs": [
    {
     "name": "stdout",
     "output_type": "stream",
     "text": [
      "/home/drugo/radar-precipitation\n"
     ]
    }
   ],
   "source": [
    "!pwd"
   ]
  },
  {
   "cell_type": "code",
   "execution_count": 4,
   "id": "38d2c7d2-8fd7-4b6c-b87d-506c1e3f53ba",
   "metadata": {},
   "outputs": [],
   "source": [
    "path = '/home/drugo/radar-precipitation/centroids/'"
   ]
  },
  {
   "cell_type": "code",
   "execution_count": 5,
   "id": "8cd8d54d-6626-42a9-8e59-1782b385b32a",
   "metadata": {},
   "outputs": [],
   "source": [
    "os.chdir(path)"
   ]
  },
  {
   "cell_type": "code",
   "execution_count": 6,
   "id": "2d086e2c-3303-4eac-b832-30032a5e3940",
   "metadata": {},
   "outputs": [],
   "source": [
    "coor_centr = []"
   ]
  },
  {
   "cell_type": "code",
   "execution_count": 7,
   "id": "9439752d-3b63-4a09-9203-1f75a8b3af93",
   "metadata": {},
   "outputs": [],
   "source": [
    "centr_coor = pd.DataFrame(columns=['id', 'lat', 'lon','distance','Dlat','Dlon'])\n",
    "for file in os.listdir(path):\n",
    "    if file.endswith(\".shp\"):\n",
    "        shapefile = gpd.read_file(file)\n",
    "        centr_coor = centr_coor.append({\n",
    "            'id': pd.to_datetime(str(shapefile.id[0])), \n",
    "            'lat': shapefile.iloc[0,1].coords[0][0], \n",
    "            'lon': shapefile.iloc[0,1].coords[0][1],\n",
    "        }, ignore_index=True)"
   ]
  },
  {
   "cell_type": "code",
   "execution_count": 8,
   "id": "382bd68d-9b50-4a32-9c79-fb57dd3bdc4d",
   "metadata": {},
   "outputs": [],
   "source": [
    "centr_coor.index=centr_coor.id"
   ]
  },
  {
   "cell_type": "code",
   "execution_count": 9,
   "id": "5873da79-8b9a-4b48-bd7f-1c3b66cc5dfa",
   "metadata": {},
   "outputs": [],
   "source": [
    "centr_coor = centr_coor.sort_index()"
   ]
  },
  {
   "cell_type": "code",
   "execution_count": 10,
   "id": "a78b06e4-e05e-45c8-b568-808e4c05f426",
   "metadata": {},
   "outputs": [
    {
     "data": {
      "text/html": [
       "<div>\n",
       "<style scoped>\n",
       "    .dataframe tbody tr th:only-of-type {\n",
       "        vertical-align: middle;\n",
       "    }\n",
       "\n",
       "    .dataframe tbody tr th {\n",
       "        vertical-align: top;\n",
       "    }\n",
       "\n",
       "    .dataframe thead th {\n",
       "        text-align: right;\n",
       "    }\n",
       "</style>\n",
       "<table border=\"1\" class=\"dataframe\">\n",
       "  <thead>\n",
       "    <tr style=\"text-align: right;\">\n",
       "      <th></th>\n",
       "      <th>id</th>\n",
       "      <th>lat</th>\n",
       "      <th>lon</th>\n",
       "      <th>distance</th>\n",
       "      <th>Dlat</th>\n",
       "      <th>Dlon</th>\n",
       "    </tr>\n",
       "    <tr>\n",
       "      <th>id</th>\n",
       "      <th></th>\n",
       "      <th></th>\n",
       "      <th></th>\n",
       "      <th></th>\n",
       "      <th></th>\n",
       "      <th></th>\n",
       "    </tr>\n",
       "  </thead>\n",
       "  <tbody>\n",
       "    <tr>\n",
       "      <th>2019-09-09 21:20:00</th>\n",
       "      <td>2019-09-09 21:20:00</td>\n",
       "      <td>410995.473149</td>\n",
       "      <td>137114.783579</td>\n",
       "      <td>NaN</td>\n",
       "      <td>NaN</td>\n",
       "      <td>NaN</td>\n",
       "    </tr>\n",
       "    <tr>\n",
       "      <th>2019-09-09 21:25:00</th>\n",
       "      <td>2019-09-09 21:25:00</td>\n",
       "      <td>416601.673745</td>\n",
       "      <td>139156.007994</td>\n",
       "      <td>NaN</td>\n",
       "      <td>NaN</td>\n",
       "      <td>NaN</td>\n",
       "    </tr>\n",
       "    <tr>\n",
       "      <th>2019-09-09 21:30:00</th>\n",
       "      <td>2019-09-09 21:30:00</td>\n",
       "      <td>418674.702248</td>\n",
       "      <td>139542.417680</td>\n",
       "      <td>NaN</td>\n",
       "      <td>NaN</td>\n",
       "      <td>NaN</td>\n",
       "    </tr>\n",
       "    <tr>\n",
       "      <th>2019-09-09 21:35:00</th>\n",
       "      <td>2019-09-09 21:35:00</td>\n",
       "      <td>420647.917478</td>\n",
       "      <td>141925.587129</td>\n",
       "      <td>NaN</td>\n",
       "      <td>NaN</td>\n",
       "      <td>NaN</td>\n",
       "    </tr>\n",
       "    <tr>\n",
       "      <th>2019-09-09 21:40:00</th>\n",
       "      <td>2019-09-09 21:40:00</td>\n",
       "      <td>422189.317151</td>\n",
       "      <td>139288.143505</td>\n",
       "      <td>NaN</td>\n",
       "      <td>NaN</td>\n",
       "      <td>NaN</td>\n",
       "    </tr>\n",
       "  </tbody>\n",
       "</table>\n",
       "</div>"
      ],
      "text/plain": [
       "                                     id            lat            lon  \\\n",
       "id                                                                      \n",
       "2019-09-09 21:20:00 2019-09-09 21:20:00  410995.473149  137114.783579   \n",
       "2019-09-09 21:25:00 2019-09-09 21:25:00  416601.673745  139156.007994   \n",
       "2019-09-09 21:30:00 2019-09-09 21:30:00  418674.702248  139542.417680   \n",
       "2019-09-09 21:35:00 2019-09-09 21:35:00  420647.917478  141925.587129   \n",
       "2019-09-09 21:40:00 2019-09-09 21:40:00  422189.317151  139288.143505   \n",
       "\n",
       "                    distance Dlat Dlon  \n",
       "id                                      \n",
       "2019-09-09 21:20:00      NaN  NaN  NaN  \n",
       "2019-09-09 21:25:00      NaN  NaN  NaN  \n",
       "2019-09-09 21:30:00      NaN  NaN  NaN  \n",
       "2019-09-09 21:35:00      NaN  NaN  NaN  \n",
       "2019-09-09 21:40:00      NaN  NaN  NaN  "
      ]
     },
     "execution_count": 10,
     "metadata": {},
     "output_type": "execute_result"
    }
   ],
   "source": [
    "centr_coor.head()"
   ]
  },
  {
   "cell_type": "code",
   "execution_count": 11,
   "id": "08c4993b-32ac-48e3-b95b-20828bad64ff",
   "metadata": {},
   "outputs": [
    {
     "name": "stderr",
     "output_type": "stream",
     "text": [
      "/home/drugo/anaconda3/envs/gis/lib/python3.7/site-packages/pandas/core/indexing.py:1732: SettingWithCopyWarning: \n",
      "A value is trying to be set on a copy of a slice from a DataFrame\n",
      "\n",
      "See the caveats in the documentation: https://pandas.pydata.org/pandas-docs/stable/user_guide/indexing.html#returning-a-view-versus-a-copy\n",
      "  self._setitem_single_block(indexer, value, name)\n"
     ]
    }
   ],
   "source": [
    "for i in range(1,len(centr_coor)):\n",
    "    centr_coor.distance.iloc[i] = ((centr_coor.lat.iloc[i]-centr_coor.lat.iloc[i-1])**2+(centr_coor.lon.iloc[i]-centr_coor.lon.iloc[i-1])**2)**0.5\n",
    "    centr_coor.Dlat.iloc[i] = (centr_coor.lat.iloc[i]-centr_coor.lat.iloc[i-1])\n",
    "    centr_coor.Dlon.iloc[i] = (centr_coor.lon.iloc[i]-centr_coor.lon.iloc[i-1])"
   ]
  },
  {
   "cell_type": "code",
   "execution_count": 12,
   "id": "48e45fdc-9e57-4e20-958d-bb1d15c0efec",
   "metadata": {},
   "outputs": [
    {
     "data": {
      "text/html": [
       "<div>\n",
       "<style scoped>\n",
       "    .dataframe tbody tr th:only-of-type {\n",
       "        vertical-align: middle;\n",
       "    }\n",
       "\n",
       "    .dataframe tbody tr th {\n",
       "        vertical-align: top;\n",
       "    }\n",
       "\n",
       "    .dataframe thead th {\n",
       "        text-align: right;\n",
       "    }\n",
       "</style>\n",
       "<table border=\"1\" class=\"dataframe\">\n",
       "  <thead>\n",
       "    <tr style=\"text-align: right;\">\n",
       "      <th></th>\n",
       "      <th>id</th>\n",
       "      <th>lat</th>\n",
       "      <th>lon</th>\n",
       "      <th>distance</th>\n",
       "      <th>Dlat</th>\n",
       "      <th>Dlon</th>\n",
       "    </tr>\n",
       "    <tr>\n",
       "      <th>id</th>\n",
       "      <th></th>\n",
       "      <th></th>\n",
       "      <th></th>\n",
       "      <th></th>\n",
       "      <th></th>\n",
       "      <th></th>\n",
       "    </tr>\n",
       "  </thead>\n",
       "  <tbody>\n",
       "    <tr>\n",
       "      <th>2019-09-09 21:20:00</th>\n",
       "      <td>2019-09-09 21:20:00</td>\n",
       "      <td>410995.473149</td>\n",
       "      <td>137114.783579</td>\n",
       "      <td>NaN</td>\n",
       "      <td>NaN</td>\n",
       "      <td>NaN</td>\n",
       "    </tr>\n",
       "    <tr>\n",
       "      <th>2019-09-09 21:25:00</th>\n",
       "      <td>2019-09-09 21:25:00</td>\n",
       "      <td>416601.673745</td>\n",
       "      <td>139156.007994</td>\n",
       "      <td>5966.245237</td>\n",
       "      <td>5606.200596</td>\n",
       "      <td>2041.224415</td>\n",
       "    </tr>\n",
       "    <tr>\n",
       "      <th>2019-09-09 21:30:00</th>\n",
       "      <td>2019-09-09 21:30:00</td>\n",
       "      <td>418674.702248</td>\n",
       "      <td>139542.417680</td>\n",
       "      <td>2108.734128</td>\n",
       "      <td>2073.028504</td>\n",
       "      <td>386.409686</td>\n",
       "    </tr>\n",
       "    <tr>\n",
       "      <th>2019-09-09 21:35:00</th>\n",
       "      <td>2019-09-09 21:35:00</td>\n",
       "      <td>420647.917478</td>\n",
       "      <td>141925.587129</td>\n",
       "      <td>3094.038616</td>\n",
       "      <td>1973.215229</td>\n",
       "      <td>2383.169448</td>\n",
       "    </tr>\n",
       "    <tr>\n",
       "      <th>2019-09-09 21:40:00</th>\n",
       "      <td>2019-09-09 21:40:00</td>\n",
       "      <td>422189.317151</td>\n",
       "      <td>139288.143505</td>\n",
       "      <td>3054.835809</td>\n",
       "      <td>1541.399674</td>\n",
       "      <td>-2637.443624</td>\n",
       "    </tr>\n",
       "  </tbody>\n",
       "</table>\n",
       "</div>"
      ],
      "text/plain": [
       "                                     id            lat            lon  \\\n",
       "id                                                                      \n",
       "2019-09-09 21:20:00 2019-09-09 21:20:00  410995.473149  137114.783579   \n",
       "2019-09-09 21:25:00 2019-09-09 21:25:00  416601.673745  139156.007994   \n",
       "2019-09-09 21:30:00 2019-09-09 21:30:00  418674.702248  139542.417680   \n",
       "2019-09-09 21:35:00 2019-09-09 21:35:00  420647.917478  141925.587129   \n",
       "2019-09-09 21:40:00 2019-09-09 21:40:00  422189.317151  139288.143505   \n",
       "\n",
       "                        distance         Dlat         Dlon  \n",
       "id                                                          \n",
       "2019-09-09 21:20:00          NaN          NaN          NaN  \n",
       "2019-09-09 21:25:00  5966.245237  5606.200596  2041.224415  \n",
       "2019-09-09 21:30:00  2108.734128  2073.028504   386.409686  \n",
       "2019-09-09 21:35:00  3094.038616  1973.215229  2383.169448  \n",
       "2019-09-09 21:40:00  3054.835809  1541.399674 -2637.443624  "
      ]
     },
     "execution_count": 12,
     "metadata": {},
     "output_type": "execute_result"
    }
   ],
   "source": [
    "centr_coor.head()"
   ]
  },
  {
   "cell_type": "code",
   "execution_count": 13,
   "id": "2b0031c3-5710-47db-b730-de94aa0dc83d",
   "metadata": {},
   "outputs": [],
   "source": [
    "path_polygons = '/home/drugo/radar-precipitation/polygons/'\n",
    "path_output = '/home/drugo/radar-precipitation/predicted/'"
   ]
  },
  {
   "cell_type": "code",
   "execution_count": 14,
   "id": "7dd4fd87-5c56-4b1b-86bc-96cc18d9dc04",
   "metadata": {},
   "outputs": [],
   "source": [
    "lst = os.listdir(path_polygons)\n",
    "lst.sort()"
   ]
  },
  {
   "cell_type": "code",
   "execution_count": 15,
   "id": "fbb22d23-2f01-44b7-98cb-ea4dc0f5207a",
   "metadata": {},
   "outputs": [],
   "source": [
    "shp_list = []\n",
    "for file in lst:\n",
    "    if file.endswith(\".shp\"):\n",
    "        shp_list.append(file)"
   ]
  },
  {
   "cell_type": "code",
   "execution_count": 16,
   "id": "5c22b771-e00f-421e-b890-2cca93a27d4c",
   "metadata": {},
   "outputs": [
    {
     "name": "stdout",
     "output_type": "stream",
     "text": [
      "il file predetto: 201909092140.shp\n",
      "il file predetto: 201909092145.shp\n",
      "il file predetto: 201909092150.shp\n",
      "il file predetto: 201909092155.shp\n",
      "il file predetto: 201909092200.shp\n",
      "il file predetto: 201909092205.shp\n",
      "il file predetto: 201909092210.shp\n",
      "il file predetto: 201909092215.shp\n",
      "il file predetto: 201909092220.shp\n",
      "il file predetto: 201909092225.shp\n",
      "il file predetto: 201909092230.shp\n",
      "il file predetto: 201909092235.shp\n",
      "il file predetto: 201909092240.shp\n",
      "il file predetto: 201909092245.shp\n",
      "il file predetto: 201909092250.shp\n",
      "il file predetto: 201909092255.shp\n",
      "il file predetto: 201909092300.shp\n",
      "il file predetto: 201909092305.shp\n",
      "il file predetto: 201909092310.shp\n",
      "il file predetto: 201909092315.shp\n",
      "il file predetto: 201909092320.shp\n",
      "il file predetto: 201909092325.shp\n",
      "il file predetto: 201909092330.shp\n",
      "il file predetto: 201909092335.shp\n",
      "il file predetto: 201909092340.shp\n",
      "il file predetto: 201909092345.shp\n",
      "il file predetto: 201909092350.shp\n",
      "il file predetto: 201909092355.shp\n",
      "il file predetto: 201909100000.shp\n",
      "il file predetto: 201909100005.shp\n",
      "il file predetto: 201909100010.shp\n",
      "il file predetto: 201909100015.shp\n",
      "il file predetto: 201909100020.shp\n",
      "il file predetto: 201909100025.shp\n",
      "il file predetto: 201909100030.shp\n",
      "il file predetto: 201909100035.shp\n",
      "il file predetto: 201909100040.shp\n",
      "il file predetto: 201909100045.shp\n",
      "il file predetto: 201909100050.shp\n",
      "il file predetto: 201909100055.shp\n",
      "il file predetto: 201909100100.shp\n",
      "il file predetto: 201909100105.shp\n",
      "il file predetto: 201909100110.shp\n",
      "il file predetto: 201909100115.shp\n",
      "il file predetto: 201909100120.shp\n",
      "il file predetto: 201909100125.shp\n",
      "il file predetto: 201909100130.shp\n",
      "il file predetto: 201909100135.shp\n",
      "il file predetto: 201909100140.shp\n",
      "il file predetto: 201909100145.shp\n",
      "il file predetto: 201909100150.shp\n",
      "il file predetto: 201909100155.shp\n",
      "il file predetto: 201909100200.shp\n",
      "il file predetto: 201909100205.shp\n",
      "il file predetto: 201909100210.shp\n",
      "il file predetto: 201909100215.shp\n"
     ]
    }
   ],
   "source": [
    "os.chdir(path_polygons)\n",
    "counter = 3\n",
    "for i in range(3,len(shp_list)-1):\n",
    "    shapefile_polygons = gpd.read_file(shp_list[i])\n",
    "    shifted_shp = shapefile_polygons.set_geometry(\n",
    "        shapefile_polygons.translate(\n",
    "            centr_coor.Dlon[i-3:i].mean(),\n",
    "            centr_coor.Dlat[i-3:i].mean()))\n",
    "    shifted_shp.to_file(path_output+'/'+shp_list[i+1].replace('.shp','_shifted.shp'))\n",
    "    print('il file predetto: '+shp_list[i+1])       "
   ]
  },
  {
   "cell_type": "code",
   "execution_count": null,
   "id": "bc7b3c2c-4a25-4990-8e6f-424baf0bd71b",
   "metadata": {},
   "outputs": [],
   "source": []
  }
 ],
 "metadata": {
  "kernelspec": {
   "display_name": "Python 3",
   "language": "python",
   "name": "python3"
  },
  "language_info": {
   "codemirror_mode": {
    "name": "ipython",
    "version": 3
   },
   "file_extension": ".py",
   "mimetype": "text/x-python",
   "name": "python",
   "nbconvert_exporter": "python",
   "pygments_lexer": "ipython3",
   "version": "3.7.11"
  }
 },
 "nbformat": 4,
 "nbformat_minor": 5
}
